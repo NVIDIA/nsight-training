{
 "cells": [
  {
   "cell_type": "markdown",
   "id": "single-radiation",
   "metadata": {},
   "source": [
    "# Debugging A Simple Image Processing Program Using The Compute Sanitizer\n",
    "## 01 Introduction\n",
    "\n",
    "This lab teaches how to use the Compute Sanitizer to find issues in CUDA\n",
    "applications.\n",
    "\n",
    "The Compute Sanitizer is a collection of 4 tools that perform verifications at\n",
    "runtime to find common programming errors in CUDA applications.\n",
    "The tools and their main targets are:\n",
    "- Memcheck: detect and report invalid memory accesses\n",
    "- Initcheck: detect and report the usage of uninitialized memory values\n",
    "- Racecheck: detect and report possible data-races on shared memory\n",
    "- Syncheck: detect and report invalid usage of CUDA synchronization primitives\n",
    "\n",
    "In this lab you will learn how to build an application to run with the\n",
    "compute-sanitizer, how to use memcheck, initcheck and racecheck tools, and how\n",
    "to interpret their reports as well as some of their optional features.\n",
    "\n",
    "Table of contents:\n",
    "- [01 Introduction](01_introduction.ipynb)\n",
    "- [02 Convolution](02_convolution.ipynb)\n",
    "- [03 Memcheck part 1](03_memcheck1.ipynb)\n",
    "- [04 Memcheck part 2](04_memcheck2.ipynb)\n",
    "- [05 Racecheck](05_racecheck.ipynb)\n",
    "- [06 Initcheck](06_initecheck.ipynb)\n",
    "- [07 Memory leaks](07_memory_leaks.ipynb)\n",
    "- [08 Unused memory](08_unused_memory.ipynb)\n",
    "- [09 Conclusion](09_conclusion.ipynb)\n",
    "\n",
    "The tutorial uses Ubuntu 18.04 and CUDA 11.2. However, the Compute Sanitizer\n",
    "itself is a pre-release build of CUDA 11.3, including a new feature that will be\n",
    "exposed during this tutorial.\n",
    "Start by verifying that the target system has the NVIDIA driver installed.\n",
    "Let's look at the available GPU(s) with the nvidia-smi utility, by executing the cell below."
   ]
  },
  {
   "cell_type": "code",
   "execution_count": null,
   "id": "hollow-rwanda",
   "metadata": {},
   "outputs": [],
   "source": [
    "!nvidia-smi"
   ]
  },
  {
   "cell_type": "markdown",
   "id": "colored-credits",
   "metadata": {},
   "source": [
    "For this workshop, manipulations should be made through Jupyter by opening a new terminal in File > New > Terminal and heading to `sanitizer/code`."
   ]
  },
  {
   "cell_type": "markdown",
   "id": "sensitive-colony",
   "metadata": {},
   "source": [
    "[Continue to step 02](02_convolution.ipynb)"
   ]
  }
 ],
 "metadata": {
  "kernelspec": {
   "display_name": "Python 3",
   "language": "python",
   "name": "python3"
  },
  "language_info": {
   "codemirror_mode": {
    "name": "ipython",
    "version": 3
   },
   "file_extension": ".py",
   "mimetype": "text/x-python",
   "name": "python",
   "nbconvert_exporter": "python",
   "pygments_lexer": "ipython3",
   "version": "3.6.9"
  }
 },
 "nbformat": 4,
 "nbformat_minor": 5
}
