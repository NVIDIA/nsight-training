{
 "cells": [
  {
   "cell_type": "markdown",
   "id": "powered-shopping",
   "metadata": {},
   "source": [
    "# Debugging A Simple Image Processing Program Using The Compute Sanitizer\n",
    "## 06 Initcheck\n",
    "\n",
    "In this section, we will introduce the initcheck tool. Initcheck is designed to\n",
    "detect and report the usage of device memory that has not been initialized.\n",
    "Reading uninitialized values means that the value read will be unpredictable,\n",
    "most likely leading to unexpected results within the application.\n",
    "\n",
    "Now that our application seems to have correct results in our smaller square\n",
    "test images, let's try it on a bigger scale. Uncomment the part at the bottom of\n",
    "the file, between lines 255 and 275. This part adds the application of a Gaussian\n",
    "blur to the [coffee.png](code/coffee.png) beans image. The expected result is the following:\n",
    "\n",
    "![Coffe Beans blur](images/coffee-refscaled.png)\n",
    "\n",
    "Rebuild and run the `convolution` application. We can observe that instead of\n",
    "the expected result for [coffee-out.png](code/coffee-out.png) we have an almost black picture.\n",
    "\n",
    "![Dark coffee](images/dark-coffeescaled.png)\n",
    "\n",
    "First, try to reuse the tools that we already ran to see if any new errors\n",
    "appeared.\n",
    "\n",
    "Once that's done, we can observe that no new errors are reported by memcheck or\n",
    "racecheck. Therefore, we will now try to see if initcheck can help us debug the\n",
    "application:\n",
    "\n",
    "```sh\n",
    "    compute-sanitizer --tool=initcheck ./convolution\n",
    "```\n",
    "\n",
    "Here, we can observe that the tool reports several errors. Given the number of errors reported, the performance of the program is heavily impacted and you may interrupt its execution by pressing Ctrl+C and start debugging.\n",
    "Please take a moment to examine these reports and try to find the error.\n",
    "\n",
    "```\n",
    "========= COMPUTE-SANITIZER\n",
    "========= Uninitialized __global__ memory read of size 1 bytes\n",
    "=========     at 0xc40 in /home/nvidia/sanitizer-demo/convolution.cu:48:convolution(pixel const*, int, int, float const*, int, pixel*)\n",
    "=========     by thread (3,3,0) in block (0,0,0)\n",
    "=========     Address 0x7fa8e5002048\n",
    "=========     Saved host backtrace up to driver entry point at kernel launch time\n",
    "=========     Host Frame: [0x27e53a]\n",
    "=========                in /usr/lib/x86_64-linux-gnu/libcuda.so.1\n",
    "=========     Host Frame: [0x108db]\n",
    "=========                in /home/nvidia/sanitizer-demo/./convolution\n",
    "=========     Host Frame: [0x5c300]\n",
    "=========                in /home/nvidia/sanitizer-demo/./convolution\n",
    "=========     Host Frame: [0xb1e8]\n",
    "=========                in /home/nvidia/sanitizer-demo/./convolution\n",
    "=========     Host Frame:__device_stub__Z11convolutionPK5pixeliiPKfiPS_(pixel const *, int, int, float const *, int, pixel*) [0xb025]\n",
    "=========                in /home/nvidia/sanitizer-demo/./convolution\n",
    "=========     Host Frame:convolution(pixel const *, int, int, float const *, int, pixel*) [0xb092]\n",
    "=========                in /home/nvidia/sanitizer-demo/./convolution\n",
    "=========     Host Frame: [0xa298]\n",
    "=========                in /home/nvidia/sanitizer-demo/./convolution\n",
    "=========     Host Frame:main [0xac48]\n",
    "=========                in /home/nvidia/sanitizer-demo/./convolution\n",
    "=========     Host Frame:__libc_start_main [0x270b3]\n",
    "=========                in /lib/x86_64-linux-gnu/libc.so.6\n",
    "=========     Host Frame:_start [0x9c0e]\n",
    "=========                in /home/nvidia/sanitizer-demo/./convolution\n",
    "========= \n",
    "[...]\n",
    "```"
   ]
  },
  {
   "cell_type": "markdown",
   "id": "massive-vermont",
   "metadata": {
    "jupyter": {
     "source_hidden": true
    },
    "tags": []
   },
   "source": [
    "The error is located line 269: instead of copying the full convolution matrix,\n",
    "we only copy the 25 first bytes, leading to the remaining bytes being\n",
    "uninitialized but still read by the kernel. Possible fixes are to multiply the\n",
    "`25` by `sizeof(float)` or to directly use `sizeof(gaussianBlurMatrix)` instead."
   ]
  },
  {
   "cell_type": "markdown",
   "id": "whole-natural",
   "metadata": {},
   "source": [
    "After fixing the mistake, recompile and launch the application again. We now\n",
    "have the expected result, a slight blur on our [coffee-out.png](code/coffee-out.png) beans picture. The effect is light so it may be hard to notice.\n",
    "This shows that even if the device code is correct, error in handling the CUDA\n",
    "API can still lead failures that may be non-trivial to detect with a regular\n",
    "debugger.\n",
    "\n",
    "The application now seems to be working correctly. However, there may be some\n",
    "things that can still be improved that the compute-sanitizer could help us with.\n",
    "    \n",
    "[Continue to step 07.](07_memory_leaks.ipynb)\n"
   ]
  }
 ],
 "metadata": {
  "kernelspec": {
   "display_name": "Python 3",
   "language": "python",
   "name": "python3"
  },
  "language_info": {
   "codemirror_mode": {
    "name": "ipython",
    "version": 3
   },
   "file_extension": ".py",
   "mimetype": "text/x-python",
   "name": "python",
   "nbconvert_exporter": "python",
   "pygments_lexer": "ipython3",
   "version": "3.6.9"
  }
 },
 "nbformat": 4,
 "nbformat_minor": 5
}
