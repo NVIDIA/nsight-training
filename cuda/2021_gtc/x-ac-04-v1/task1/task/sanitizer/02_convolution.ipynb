{
 "cells": [
  {
   "cell_type": "markdown",
   "id": "level-patient",
   "metadata": {},
   "source": [
    "# Debugging A Simple Image Processing Program Using The Compute Sanitizer\n",
    "## 02 Convolution\n",
    "\n",
    "Before starting using the Compute Sanitizer, we will briefly introduce the\n",
    "sample application used to support this tutorial.\n",
    "\n",
    "This application is a custom implementation of a convolution matrix application\n",
    "on an image. The convolution is an operation that, for each pixel of the output\n",
    "image, computes a weighted sum of the neighboring pixels. The convolution\n",
    "matrix is centered on the pixel being computed, and for each neighbor pixel in\n",
    "the image within the dimension of the convolution matrix, we multiply it by the\n",
    "coefficient in the corresponding coordinates of the convolution matrix and we\n",
    "sum it with the rest. This process has several applications in image processing,\n",
    "depending on the convolution matrix values. It can for instance be used for edge\n",
    "detection or to apply various blurring or sharpening effects."
   ]
  },
  {
   "cell_type": "markdown",
   "id": "aging-philip",
   "metadata": {},
   "source": [
    "<center><img src=\"images/coffeescaled.png\" /><br>\n",
    "    Original</center>\n",
    "\n",
    "<center><img src=\"images/coffee-refscaled.png\" /><br>\n",
    "    Gaussian blur approximation (slight effect)</center>\n",
    "    \n",
    "<center><img src=\"images/coffee-edgescaled.png\" /><br>\n",
    "    Edge detection</center>"
   ]
  },
  {
   "cell_type": "markdown",
   "id": "failing-scheme",
   "metadata": {},
   "source": [
    "In this implementation, each thread is responsible to compute one output pixel.\n",
    "The threads will first copy a pixel of the image in shared memory for faster\n",
    "subsequent accesses. Some threads will also copy the convolution matrix in\n",
    "shared memory. After that, some threads will also copy the neighboring parts of\n",
    "the sub image corresponding to the block, as the pixel on the edge of the block\n",
    "need them for the computation. This will be referred as the apron. Once this is\n",
    "done, each thread will apply the convolution by fetching the values in shared\n",
    "memory and write the result in the output buffer.\n",
    "\n",
    "This implementation does not work in the current state, and the goal of the\n",
    "tutorial is to make it work as expected. However, even when all the errors are\n",
    "corrected, this sample should **not** be used as a reference, as it is not an\n",
    "efficient or optimal implementation, it was designed with exposing the possible\n",
    "errors in mind, and not for efficiency or simplicity.\n",
    "\n",
    "For our tests we have 3 test images, the coffee beans shown above, and the\n",
    "other two shown below."
   ]
  },
  {
   "cell_type": "markdown",
   "id": "discrete-custody",
   "metadata": {},
   "source": [
    "![Checkerboard](images/checkerboard.png) ![Icon](images/icon.png)"
   ]
  },
  {
   "cell_type": "markdown",
   "id": "broad-findings",
   "metadata": {},
   "source": [
    "You may take a moment to examine the code [convolution.cu](code/convolution.cu) before heading to step 03, where we will start debugging. Using Jupyter, you can enable syntax coloring by clicking the \"Plain text\" button at the bottom of the window and select C++.\n",
    "\n",
    "[Continue to step 03](03_memcheck1.ipynb)"
   ]
  }
 ],
 "metadata": {
  "kernelspec": {
   "display_name": "Python 3",
   "language": "python",
   "name": "python3"
  },
  "language_info": {
   "codemirror_mode": {
    "name": "ipython",
    "version": 3
   },
   "file_extension": ".py",
   "mimetype": "text/x-python",
   "name": "python",
   "nbconvert_exporter": "python",
   "pygments_lexer": "ipython3",
   "version": "3.6.9"
  }
 },
 "nbformat": 4,
 "nbformat_minor": 5
}
