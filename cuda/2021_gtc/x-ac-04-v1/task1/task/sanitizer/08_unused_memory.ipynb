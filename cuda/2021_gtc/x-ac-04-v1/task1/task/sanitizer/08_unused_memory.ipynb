{
 "cells": [
  {
   "cell_type": "markdown",
   "id": "wicked-lecture",
   "metadata": {},
   "source": [
    "# Debugging A Simple Image Processing Program Using The Compute Sanitizer\n",
    "## 08 Unused memory\n",
    "\n",
    "In this last practical step, we will review the unused memory detection\n",
    "capabilities of the Compute Sanitizer. The initcheck tool has an option\n",
    "that allows us to see if memory allocations are partly or completely unused\n",
    "during the life of the program. This can be useful when trying to reduce the\n",
    "waste of space in an application under high memory pressure. To use it we need\n",
    "to add the flag `--track-unused=yes` with the initcheck tool. For best results,\n",
    "we can have a `cudaDeviceReset()` at the end of the program if some allocations\n",
    "are not freed by that point. Let's try it with our application:\n",
    "\n",
    "```sh\n",
    "    compute-sanitizer --tool initcheck --track-unused yes ./convolution\n",
    "```\n",
    "\n",
    "With this command we obtain the following output:\n",
    "\n",
    "```\n",
    "========= COMPUTE-SANITIZER\n",
    "Image ./checkerboard.png size: 32 * 32\n",
    "Image ./icon.png size: 32 * 32\n",
    "Grid size: 2 * 2 * 1\n",
    "Block size: 31 * 31 * 1\n",
    "Grid size: 2 * 2 * 1\n",
    "Block size: 31 * 31 * 1\n",
    "Image ./coffee.png size: 1936 * 1792\n",
    "Grid size: 63 * 58 * 1\n",
    "Block size: 31 * 31 * 1\n",
    "=========  Unused memory in allocation 0x7fb627002000 of size 200\n",
    "=========     Not written 100 bytes at 100 (0x7fb627002064)\n",
    "=========     50% of allocation were unused.\n",
    "=========     Saved host backtrace up to driver entry point at cudaMalloc time\n",
    "=========     Host Frame: [0x31cf17]\n",
    "=========                in /usr/lib/x86_64-linux-gnu/libcuda.so.1\n",
    "=========     Host Frame: [0x3a08e]\n",
    "=========                in /home/nvidia/sanitizer-demo/./convolution\n",
    "=========     Host Frame: [0x1141b]\n",
    "=========                in /home/nvidia/sanitizer-demo/./convolution\n",
    "=========     Host Frame: [0x45afc]\n",
    "=========                in /home/nvidia/sanitizer-demo/./convolution\n",
    "=========     Host Frame: [0xb198]\n",
    "=========                in /home/nvidia/sanitizer-demo/./convolution\n",
    "=========     Host Frame:main [0xa685]\n",
    "=========                in /home/nvidia/sanitizer-demo/./convolution\n",
    "=========     Host Frame:__libc_start_main [0x270b3]\n",
    "=========                in /lib/x86_64-linux-gnu/libc.so.6\n",
    "=========     Host Frame:_start [0x9c0e]\n",
    "=========                in /home/nvidia/sanitizer-demo/./convolution\n",
    "========= \n",
    "========= ERROR SUMMARY: 1 error\n",
    "```\n",
    "\n",
    "It can be natural, depending on the application and inputs, that some memory allocations are\n",
    "not used in full. However, in our case, one of our allocation is partially\n",
    "unused while it could be avoided. Take a moment to try to find it and fix it."
   ]
  },
  {
   "cell_type": "markdown",
   "id": "double-terrain",
   "metadata": {
    "jupyter": {
     "source_hidden": true
    },
    "tags": []
   },
   "source": [
    "The incriminated allocation is the one line 229. Indeed, we are allocating a\n",
    "matrix of double, while we are using float, resulting in wasting half\n",
    "the space allocated."
   ]
  },
  {
   "cell_type": "markdown",
   "id": "formal-invalid",
   "metadata": {},
   "source": [
    "[Go to the conclusion.](09_conclusion.ipynb)"
   ]
  }
 ],
 "metadata": {
  "kernelspec": {
   "display_name": "Python 3",
   "language": "python",
   "name": "python3"
  },
  "language_info": {
   "codemirror_mode": {
    "name": "ipython",
    "version": 3
   },
   "file_extension": ".py",
   "mimetype": "text/x-python",
   "name": "python",
   "nbconvert_exporter": "python",
   "pygments_lexer": "ipython3",
   "version": "3.6.9"
  }
 },
 "nbformat": 4,
 "nbformat_minor": 5
}
