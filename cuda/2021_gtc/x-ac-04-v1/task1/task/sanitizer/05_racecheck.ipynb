{
 "cells": [
  {
   "cell_type": "markdown",
   "id": "endless-supervisor",
   "metadata": {},
   "source": [
    "# Debugging A Simple Image Processing Program Using The Compute Sanitizer\n",
    "## 05 Racecheck\n",
    "\n",
    "In this section, we will introduce the racecheck tool. Racecheck can detect and\n",
    "report possible data race on shared memory. Such data-race can occur when there\n",
    "is at least a write access and a read or write without any form of\n",
    "synchronization (thread barriers, warp synchronization, etc.) in between, on different threads to the same (shared) memory\n",
    "address. Data races can be the source of unexpected and invalid results, sometimes intermittently.\n",
    "\n",
    "Our application seems to have a correct output, but data races may only manifest themselves intermittently on unpredictable factors. Since our application does rely on shared memory, it can't hurt to verify that we don't have such data race:\n",
    "\n",
    "```sh\n",
    "    compute-sanitizer --tool=racecheck ./convolution\n",
    "```\n",
    "\n",
    "We can observe that we do have errors that are reported.\n",
    "\n",
    "```\n",
    "========= COMPUTE-SANITIZER\n",
    "Image ./checkerboard.png size: 32 * 32\n",
    "Image ./icon.png size: 32 * 32\n",
    "Grid size: 2 * 2 * 1\n",
    "Block size: 31 * 31 * 1\n",
    "========= ERROR: Race reported between Read access at 0x6360 in /home/nvidia/sanitizer-demo/convolution.cu:123:convolution(pixel const*, int, int, float const*, int, pixel*)\n",
    "=========     and Write access at 0x1fe0 in /home/nvidia/sanitizer-demo/convolution.cu:63:convolution(pixel const*, int, int, float const*, int, pixel*) [1088 hazards]\n",
    "=========     and Write access at 0x26d0 in /home/nvidia/sanitizer-demo/convolution.cu:68:convolution(pixel const*, int, int, float const*, int, pixel*) [64 hazards]\n",
    "=========     and Write access at 0x3590 in /home/nvidia/sanitizer-demo/convolution.cu:79:convolution(pixel const*, int, int, float const*, int, pixel*) [64 hazards]\n",
    "=========     and Write access at 0x4480 in /home/nvidia/sanitizer-demo/convolution.cu:89:convolution(pixel const*, int, int, float const*, int, pixel*) [32 hazards]\n",
    "=========     and Write access at 0x5380 in /home/nvidia/sanitizer-demo/convolution.cu:99:convolution(pixel const*, int, int, float const*, int, pixel*) [32 hazards]\n",
    "========= \n",
    "[...]\n",
    "```\n",
    "\n",
    "There appear to be indeed a data race even though it may not have visible consequences in our context. But it may fail randomly when we don't expect it, so we should have it corrected. Take a moment to examine the reported errors and try to find the mistake. Unfold the next cell to reveal the solution:"
   ]
  },
  {
   "cell_type": "markdown",
   "id": "changing-prince",
   "metadata": {
    "jupyter": {
     "source_hidden": true
    },
    "tags": []
   },
   "source": [
    "The mistake is that we lack synchronization between the phase where we copy our\n",
    "data from global to shared memory, and the phase where we use it. Adding a thread barrier with\n",
    "`__syncthreads()` at the line 108 will fix the error, that we can verify by\n",
    "recompiling and re-running racecheck."
   ]
  },
  {
   "cell_type": "markdown",
   "id": "noted-variation",
   "metadata": {},
   "source": [
    "We should now have the expected output for [icon-out.png](code/icon-out.png) and [checkerboard-out.png](code/checkerboard-out.png) with certainty.\n",
    "\n",
    "[Go to step 06](06_initcheck.ipynb)"
   ]
  }
 ],
 "metadata": {
  "kernelspec": {
   "display_name": "Python 3",
   "language": "python",
   "name": "python3"
  },
  "language_info": {
   "codemirror_mode": {
    "name": "ipython",
    "version": 3
   },
   "file_extension": ".py",
   "mimetype": "text/x-python",
   "name": "python",
   "nbconvert_exporter": "python",
   "pygments_lexer": "ipython3",
   "version": "3.6.9"
  }
 },
 "nbformat": 4,
 "nbformat_minor": 5
}
