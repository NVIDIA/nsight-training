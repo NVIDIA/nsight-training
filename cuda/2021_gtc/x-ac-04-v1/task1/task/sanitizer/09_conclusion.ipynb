{
 "cells": [
  {
   "cell_type": "markdown",
   "id": "southeast-interference",
   "metadata": {},
   "source": [
    "# Debugging A Simple Image Processing Program Using The Compute Sanitizer\n",
    "## 09 Conclusion\n",
    "\n",
    "In this workshop, we discovered a number of functionalities of the Compute\n",
    "Sanitizer allowing us to debug problems that could be harder to see with a\n",
    "conventional debugger. The Compute Sanitizer has useful options that were not\n",
    "exposed in this workshop, such as kernel filtering, multiprocess app tracking, etc. Learn more in\n",
    "our [user manual](https://docs.nvidia.com/cuda/sanitizer-docs/ComputeSanitizer/index.html).\n",
    "\n",
    "Especially, there is one tool that has not been exposed in this workshop,\n",
    "synccheck. Synccheck is used to detect invalid usage of CUDA synchronization\n",
    "primitives. Some usages of those can be valid on some architectures and not on\n",
    "others, so reports from the tool may vary from architecture to architecture.\n",
    "Its usage should be especially considered when the application is hanging or encountering a CUDA error while\n",
    "using CUDA synchronization primitives (but not exclusively). Please refer to the [user manual](https://docs.nvidia.com/cuda/sanitizer-docs/ComputeSanitizer/index.html#synccheck-tool) for more\n",
    "details.\n",
    "If you have some time left, you may try to insert a `__syncwarp(0);` anywhere in the kernel and see what happens with and without synccheck.\n",
    "\n",
    "The Compute Sanitizer is built on top of a public API. This API can be used to\n",
    "build your own tools depending on your needs. Get more details with the\n",
    "[reference manual](https://docs.nvidia.com/cuda/sanitizer-docs/SanitizerApiGuide/index.html) and our [public api demonstration sample on Github](https://github.com/NVIDIA/compute-sanitizer-samples).\n",
    "\n",
    "[Return to the welcome page.](../lab.ipynb)"
   ]
  }
 ],
 "metadata": {
  "kernelspec": {
   "display_name": "Python 3",
   "language": "python",
   "name": "python3"
  },
  "language_info": {
   "codemirror_mode": {
    "name": "ipython",
    "version": 3
   },
   "file_extension": ".py",
   "mimetype": "text/x-python",
   "name": "python",
   "nbconvert_exporter": "python",
   "pygments_lexer": "ipython3",
   "version": "3.6.9"
  }
 },
 "nbformat": 4,
 "nbformat_minor": 5
}
