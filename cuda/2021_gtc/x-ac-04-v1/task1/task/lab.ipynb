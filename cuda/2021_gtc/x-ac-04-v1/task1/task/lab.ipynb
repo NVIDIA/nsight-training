{
 "cells": [
  {
   "cell_type": "markdown",
   "metadata": {},
   "source": [
    "# Developer Tools Lab: Correctness tools"
   ]
  },
  {
   "cell_type": "markdown",
   "metadata": {},
   "source": [
    "NVIDIA Developer Tools are a collection of applications, spanning desktop and mobile targets, which enable developers to build, debug, profile, and develop class-leading and cutting-edge software that utilizes the latest visual computing hardware from NVIDIA.\n",
    "\n",
    "When developing a CUDA application, it is natural to make mistake and create bugs, leading to unexpected results, application crashes, etc. Correctness tools are here to help developer identify and correct bugs in their application. Correctness tools include `cuda-gdb`, a debugger in the classic sense of the term, allowing the developer to inspect closely the execution of the program, and the `compute-sanitizer`, a dynamic analysis tool, automatically detecting at runtime and reporting common coding issues.\n",
    "\n",
    "![](images/nsight_esclipse_logo.jpg)"
   ]
  },
  {
   "cell_type": "markdown",
   "metadata": {},
   "source": [
    "## Debugging A Simple Image Processing Program Using the CUDA Debugger\n",
    "\n",
    "This lab teaches you how to use the CUDA debugger. The CUDA debugger is a standard debugger, allowing you to inspect the state of your program in order to identify issues.\n",
    "\n",
    "In this lab we will use the CUDA debugger to debug a simple image processing program that performs a grayscale filter on a given image. The techniques and strategies discussed in this lab will translate to debug any application that uses NVIDIA's GPUs.\n",
    "\n",
    "![](images/nsight_debugger.png)"
   ]
  },
  {
   "cell_type": "markdown",
   "metadata": {},
   "source": [
    "[Start the Debugger lab](debugger/01_introduction.ipynb)"
   ]
  },
  {
   "cell_type": "markdown",
   "metadata": {},
   "source": [
    "## Debugging A Simple Image Processing Program Using The Compute Sanitizer"
   ]
  },
  {
   "cell_type": "markdown",
   "metadata": {},
   "source": [
    "This lab teaches how to use the Compute Sanitizer find issues in CUDA applications. The Compute Sanitizer is a collection of tools that perform verifications at runtime to find common programming errors in CUDA applications. Such errors include illegal memory accesses, use of uninitialized memory, data-race on shared memory, invalid barrier synchronization, among others. \n",
    "\n",
    "In this lab we will use the Compute Sanitizer to debug a simple image processing program that applies convolution matrixes over images that encounter some of the issues the Compute Sanitizer is able to detect."
   ]
  },
  {
   "cell_type": "markdown",
   "metadata": {},
   "source": [
    "[Start the Compute Sanitizer lab](sanitizer/01_introduction.ipynb)"
   ]
  }
 ],
 "metadata": {
  "kernelspec": {
   "display_name": "Python 3",
   "language": "python",
   "name": "python3"
  },
  "language_info": {
   "codemirror_mode": {
    "name": "ipython",
    "version": 3
   },
   "file_extension": ".py",
   "mimetype": "text/x-python",
   "name": "python",
   "nbconvert_exporter": "python",
   "pygments_lexer": "ipython3",
   "version": "3.8.5"
  }
 },
 "nbformat": 4,
 "nbformat_minor": 4
}
