{
 "cells": [
  {
   "cell_type": "markdown",
   "id": "instructional-appreciation",
   "metadata": {},
   "source": [
    "Key Takeaways\n",
    "==\n",
    "\n",
    "- [Getting started with CUDA](https://developer.nvidia.com/how-to-cuda-c-cpp)\n",
    "- [CUDA Downloads](https://developer.nvidia.com/cuda-downloads)\n",
    "- [CUDA Documentation](https://docs.nvidia.com/cuda/)\n",
    "- [Nsight Eclipse Edition](https://developer.nvidia.com/nsight-eclipse-edition)\n",
    "- [CUDA-GDB](https://docs.nvidia.com/cuda/cuda-gdb/index.html)\n",
    "\n",
    "[Return to the welcome page](../lab.ipynb)\n"
   ]
  },
  {
   "cell_type": "code",
   "execution_count": null,
   "id": "competent-moral",
   "metadata": {},
   "outputs": [],
   "source": []
  }
 ],
 "metadata": {
  "kernelspec": {
   "display_name": "Python 3",
   "language": "python",
   "name": "python3"
  },
  "language_info": {
   "codemirror_mode": {
    "name": "ipython",
    "version": 3
   },
   "file_extension": ".py",
   "mimetype": "text/x-python",
   "name": "python",
   "nbconvert_exporter": "python",
   "pygments_lexer": "ipython3",
   "version": "3.8.5"
  }
 },
 "nbformat": 4,
 "nbformat_minor": 5
}
