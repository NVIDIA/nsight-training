{
 "cells": [
  {
   "cell_type": "markdown",
   "id": "desirable-purpose",
   "metadata": {},
   "source": [
    "CUDA-GDB\n",
    "==\n",
    "\n",
    "In this section, we will use CUDA-GDB through Nsight Eclipse Edition to debug a simple CUDA application.\n",
    "\n",
    "\n",
    "Goals\n",
    "--\n",
    "\n",
    "- Get familiar with Eclipse.\n",
    "- Get familiar with Nsight Eclipse Edition plugin.\n",
    "- Debug a simple CUDA application that converts a color image to its greyscale equivalent.\n",
    "\n",
    "![Image original](images/colors.png)\n",
    "![Image greyscale 1](images/colors-greyscale2.png)\n",
    "\n",
    "\n",
    "Step 0\n",
    "--\n",
    "\n",
    "- Let's have a look at the eclipse basics.\n",
    "- Look at the code and get familiar with it.\n",
    "\n",
    "\n",
    "Step 1\n",
    "--\n",
    "\n",
    "- Build and run the app with the `Run` ![Run](images/eclipse_run.png) button. All the code errors will disappear.\n",
    "- You'll notice it's failing: `GPU error: an illegal memory access was encountered at main.cu:79`.\n",
    "- Re-run the app with the `Debug` ![Debug](images/eclipse_debug.png) button. The IDE will switch to the `Debug` perspective.\n",
    "- The app will start and break on `main`.\n",
    "\n",
    "\n",
    "![Break main](images/eclipse_break_main.png)\n",
    "\n",
    "\n",
    "- Press `F8` or click the `Resume` ![Resume](images/eclipse_resume.png) button.\n",
    "- The debugger will continue and then break where the GPU throws an error, as if it was a regular OS signal.\n",
    "\n",
    "\n",
    "![Break GPU error](images/eclipse_break_gpu_error.png)\n",
    "\n",
    "\n",
    "![Break GPU error](images/eclipse_debug_tab.png)\n",
    "\n",
    "\n",
    "- Have a look at the `CUDA` and `Variables` tabs. You'll find some useful information about the current kernel.\n",
    "\n",
    "\n",
    "![CUDA tab](images/eclipse_cuda.png)   ![Variables tab](images/eclipse_variables.png)\n",
    "\n",
    "\n",
    "- On the `Variables` tab you'll notice the `buffer` and `px` variables can't be accessed by the debugger. This indicates the `buffer` pointer is not valid, hence the `Illegal Address` error.\n",
    "- Have a look at the code and try to find what's wrong.\n",
    "\n",
    "\n",
    "_Click on the three dots below once ready to get the solution._"
   ]
  },
  {
   "cell_type": "markdown",
   "id": "extensive-nature",
   "metadata": {
    "jupyter": {
     "source_hidden": true
    },
    "tags": []
   },
   "source": [
    "- Stop the current debugging session by clicking the `Terminate` ![Terminate](images/eclipse_terminate.png) button.\n",
    "- The issue here is that the pointer passed to the kernel is the host pointer, instead of the device one. Go to the kernel launch at line `77` and replace the CPU `buffer` variable with the device one, `d_image`.\n",
    "- Re-run the app with the `Run` ![Run](images/eclipse_run.png) button. It will now exit cleanly.\n",
    "- Open the file explorer to the `eclipse-workspace` folder, then `cuda-greyscale`.\n",
    "\n",
    "\n",
    "![Project folder](images/launcher_folder.png)\n",
    "\n",
    "\n",
    "- Open the `colors.png`and `colors-greyscale.png` files.\n",
    "\n",
    "\n",
    "![Image original](images/colors.png)\n",
    "\n",
    "\n",
    "![Image greyscale 1](images/colors-greyscale1.png)\n",
    "\n",
    "\n",
    "- As you can see, the greyscale one looks more like a bad black and white effect, rather than a proper greyscale filter."
   ]
  },
  {
   "cell_type": "markdown",
   "id": "abstract-mixer",
   "metadata": {
    "tags": []
   },
   "source": [
    "Step 2\n",
    "--\n",
    "\n",
    "- CUDA-GDB allows to seamlessly add breakpoints to GPU code: double-click on the line `32` to add a breakpoint in the kernel.\n",
    "\n",
    "\n",
    "![Code breakpoint](images/eclipse_code_bp.png)\n",
    "\n",
    "\n",
    "- Re-run the app with the `Debug` ![Debug](images/eclipse_debug.png) button.\n",
    "- The app will start and break on `main`.\n",
    "- Press `F8` or click the `Resume` ![Resume](images/eclipse_resume.png) button.\n",
    "- The debugger will break at line `32`, where the greyscale value is computed.\n",
    "- Have a look at the `Variables` tabs.\n",
    "\n",
    "\n",
    "![Variables tab](images/eclipse_variables_break1.png)\n",
    "\n",
    "\n",
    "- Right click on the `px` row and select `Display As Array`.\n",
    "- Set `Length` to 4, as `px` represents the 4 components of the current pixel: Red, Green, Blue, Alpha.\n",
    "\n",
    "\n",
    "![Display as array](images/eclipse_variables_array.png)\n",
    "\n",
    "\n",
    "- Check the values of the different variables and try to find what's wrong.\n",
    "\n",
    "\n",
    "_Click on the three dots below once ready to get the solution._"
   ]
  },
  {
   "cell_type": "markdown",
   "id": "electrical-chester",
   "metadata": {
    "jupyter": {
     "source_hidden": true
    },
    "tags": []
   },
   "source": [
    "- As you can see, there are some negative values in the wild.\n",
    "\n",
    "\n",
    "\n",
    "![Variables tab](images/eclipse_variables_break2.png)\n",
    "\n",
    "\n",
    "- Stop the current debugging session by clicking the `Terminate` ![Terminate](images/eclipse_terminate.png) button.\n",
    "- To fix this, simply change the `char` type to `unsigned char` on line `7`, as pixels are supposed to be unsigned, from `0` to `255`.\n",
    "- Re-run the app with the `Debug` ![Debug](images/eclipse_debug.png) button.\n",
    "- The app will start and break on `main`.\n",
    "- Press `F8` or click the `Resume` ![Resume](images/eclipse_resume.png) button.\n",
    "- The debugger will break at line `32`, where the greyscale value is computed.\n",
    "- This time, you'll see `px` values and `grey` are all positive and coherent.\n",
    "\n",
    "\n",
    "\n",
    "![Variables tab](images/eclipse_variables_break3.png)\n",
    "\n",
    "\n",
    "\n",
    "- _Optional step: change a GPU memory value through the debugger_ Double-click on the `grey` value and change it to something significantly higher or lower (in the 0-255 range), and validate with enter. Note the current values of the two variables `x` and `y`, you'll be able to see a pixel that doesn't match the neighborhood at the `x`;`y` coordinates when opening the image file later (not shown in the below image).\n",
    "- Disable the breakpoint on the `Breakpoints` tab by unchecking the checkbox.\n",
    "\n",
    "\n",
    "\n",
    "![Breakpoints tab](images/eclipse_breakpoint1.png)\n",
    "\n",
    "\n",
    "\n",
    "\n",
    "- Press `F8` or click the `Resume` ![Resume](images/eclipse_resume.png) button.\n",
    "- Open the `colors.png`and `colors-greyscale.png` files.\n",
    "- This time, the greyscale image is correct.\n",
    "\n",
    "\n",
    "![Image original](images/colors.png)\n",
    "\n",
    "\n",
    "![Image greyscale 1](images/colors-greyscale2.png)"
   ]
  },
  {
   "cell_type": "markdown",
   "id": "caring-tomato",
   "metadata": {},
   "source": [
    "Go to the [Conclusion](04_key_takeaways.ipynb)."
   ]
  }
 ],
 "metadata": {
  "kernelspec": {
   "display_name": "Python 3",
   "language": "python",
   "name": "python3"
  },
  "language_info": {
   "codemirror_mode": {
    "name": "ipython",
    "version": 3
   },
   "file_extension": ".py",
   "mimetype": "text/x-python",
   "name": "python",
   "nbconvert_exporter": "python",
   "pygments_lexer": "ipython3",
   "version": "3.8.5"
  }
 },
 "nbformat": 4,
 "nbformat_minor": 5
}
