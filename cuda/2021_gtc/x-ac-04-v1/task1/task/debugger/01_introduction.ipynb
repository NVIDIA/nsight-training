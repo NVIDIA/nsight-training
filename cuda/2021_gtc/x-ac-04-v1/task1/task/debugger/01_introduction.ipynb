{
 "cells": [
  {
   "cell_type": "markdown",
   "id": "abstract-domain",
   "metadata": {},
   "source": [
    "Introduction\n",
    "==\n",
    "\n",
    "In this workshop, you'll learn the basics of:\n",
    "- [Nsight Eclipse Edition](https://developer.nvidia.com/nsight-eclipse-edition) debugger\n",
    "- [CUDA-GDB](https://docs.nvidia.com/cuda/cuda-gdb/index.html)\n",
    "\n",
    "A virtual environment is provided to follow this workshop. All the steps are expected to be completed within this preconfigured environment.\n",
    "\n",
    "You can access it [here](/correctness/) with the password `nvidia`.\n",
    "\n",
    "Disclaimer\n",
    "--\n",
    "\n",
    "All codes in this workshop are for demonstration purposes only. They do *not* intend to be performant or serve as good practice examples. Their goals are to be short, easy to understand and exhibit some features of the various developer tools presented here.\n",
    "\n",
    "Content\n",
    "--\n",
    "- [Introduction](01_introduction.ipynb)\n",
    "- [Nsight Eclipse Edition](02_eclipse.ipynb)\n",
    "- [CUDA-GDB](03_cuda-gdb.ipynb)\n",
    "- [Key Takeaways](04_key_takeaways.ipynb)\n",
    "\n",
    "\n",
    "Go the [Nsight Eclipse Edition](02_eclipse.ipynb) section."
   ]
  }
 ],
 "metadata": {
  "kernelspec": {
   "display_name": "Python 3",
   "language": "python",
   "name": "python3"
  },
  "language_info": {
   "codemirror_mode": {
    "name": "ipython",
    "version": 3
   },
   "file_extension": ".py",
   "mimetype": "text/x-python",
   "name": "python",
   "nbconvert_exporter": "python",
   "pygments_lexer": "ipython3",
   "version": "3.8.5"
  }
 },
 "nbformat": 4,
 "nbformat_minor": 5
}
