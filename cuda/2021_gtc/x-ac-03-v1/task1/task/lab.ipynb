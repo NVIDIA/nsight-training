{
 "cells": [
  {
   "cell_type": "markdown",
   "metadata": {},
   "source": [
    "# Developer Tools Lab: Profilers"
   ]
  },
  {
   "cell_type": "markdown",
   "metadata": {},
   "source": [
    "NVIDIA Developer Tools are a collection of applications, spanning desktop and mobile targets, which enable developers to build, debug, profile, and develop class-leading and cutting-edge software that utilizes the latest visual computing hardware from NVIDIA.\n",
    "\n",
    "All developers should start with Nsight Systems to identify the largest optimization opportunities. `Nsight Systems` provides developers a system-wide visualization of an applications performance. Developers can optimize bottlenecks to scale efficiently across any number or size of CPUs and GPUs; from large servers to our smallest SoC. For further optimizations to compute kernels, developers should use `Nsight Compute`.\n",
    "\n",
    "<img src=\"images/nsight_flow.png\" width=70%>"
   ]
  },
  {
   "cell_type": "markdown",
   "metadata": {},
   "source": [
    "## Optimizing A Simple DNN Training Program Using Nsight Systems\n",
    "\n",
    "This lab teaches you how to use [NVIDIA Nsight Systems](https://developer.nvidia.com/nsight-systems). Nsight Systems is a system-wide performance analysis tool that is designed to visualize an application’s algorithms, help you identify the largest opportunities to optimize, and tune to scale efficiently across any number of CPUs and GPUs; from large server to our smallest SoC.\n",
    "\n",
    "In this lab we will use Nsight Systems to optimize a simple Deep Neural Network (DNN) training program that detects hand-written digits. The techniques and strategies discussed in this lab will translate to optimizing any application that uses NVIDIA's GPUs."
   ]
  },
  {
   "cell_type": "markdown",
   "metadata": {},
   "source": [
    "[Start the Nsight Systems lab](nsys/01_introduction.ipynb)"
   ]
  },
  {
   "cell_type": "markdown",
   "metadata": {},
   "source": [
    "## Optimizing Online 5g Machine-Learning with Nsight Compute"
   ]
  },
  {
   "cell_type": "markdown",
   "metadata": {},
   "source": [
    "This lab teaches how to use [NVIDIA Nsight Compute](https://developer.nvidia.com/nsight-compute) kernel profiler to analyze and optimize CUDA kernels. NVIDIA Nsight Compute is an interactive kernel profiler for CUDA applications. It provides detailed performance metrics and API debugging via a user interface and command line tool. In addition, its baseline feature allows users to compare results within the tool. Nsight Compute provides a customizable and data-driven user interface and metric collection and can be extended with analysis scripts for post-processing results. \n",
    "\n",
    "For the exercises, we use an online machine learning code for 5G developed by the Heinrich-Hertz-Institute and NVIDIA. The tutorial uses Ubuntu 18.04 and CUDA 11.2. Nsight Compute is included in the CUDA 11.2 toolkit package, but we use a newer version for this lab."
   ]
  },
  {
   "cell_type": "markdown",
   "metadata": {},
   "source": [
    "[Start the Nsight Compute lab](ncu/01_introduction.ipynb)"
   ]
  }
 ],
 "metadata": {
  "kernelspec": {
   "display_name": "Python 3",
   "language": "python",
   "name": "python3"
  },
  "language_info": {
   "codemirror_mode": {
    "name": "ipython",
    "version": 3
   },
   "file_extension": ".py",
   "mimetype": "text/x-python",
   "name": "python",
   "nbconvert_exporter": "python",
   "pygments_lexer": "ipython3",
   "version": "3.6.9"
  }
 },
 "nbformat": 4,
 "nbformat_minor": 4
}
