{
 "cells": [
  {
   "cell_type": "markdown",
   "metadata": {},
   "source": [
    "# Optimizing A Simple DNN Training Program Using Nsight Systems\n",
    "\n",
    "## 3.1 Optimization Workflow"
   ]
  },
  {
   "cell_type": "markdown",
   "metadata": {},
   "source": [
    "The typical optimization workflow looks like the following.\n",
    "\n",
    "<img src=images/Optimization_workflow.jpg width=40%>\n",
    "\n",
    "It is an iterative process with 3 main steps:\n",
    "1. Profile the application\n",
    "2. Inspect and analyze the profile to identify any bottlenecks\n",
    "3. Optimize the application to address the bottlenecks\n",
    "\n",
    "## 3.2 Feature Highlights of Nsight Systems"
   ]
  },
  {
   "cell_type": "markdown",
   "metadata": {},
   "source": [
    "Please execute the following cell to view the instructor's presentation highlighting the features of Nsight Systems."
   ]
  },
  {
   "cell_type": "code",
   "execution_count": null,
   "metadata": {},
   "outputs": [],
   "source": [
    "from IPython.display import IFrame\n",
    "IFrame(\"https://docs.google.com/presentation/d/e/2PACX-1vTc3w-i4z-ogi52X1chZj5_Lba8rNgrsDENjU3fu7Ny-gX8O06sULk9-05xeT7C1g/embed?start=false&loop=false\", 960, 569)"
   ]
  },
  {
   "cell_type": "markdown",
   "metadata": {},
   "source": [
    "Let's see the optimization workflow at play with Nsight Systems in [step 04](04_cpu_bottleneck.ipynb)"
   ]
  }
 ],
 "metadata": {
  "kernelspec": {
   "display_name": "Python 3",
   "language": "python",
   "name": "python3"
  },
  "language_info": {
   "codemirror_mode": {
    "name": "ipython",
    "version": 3
   },
   "file_extension": ".py",
   "mimetype": "text/x-python",
   "name": "python",
   "nbconvert_exporter": "python",
   "pygments_lexer": "ipython3",
   "version": "3.6.9"
  }
 },
 "nbformat": 4,
 "nbformat_minor": 4
}
