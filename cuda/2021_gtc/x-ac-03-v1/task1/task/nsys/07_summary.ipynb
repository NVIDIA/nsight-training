{
 "cells": [
  {
   "cell_type": "markdown",
   "metadata": {},
   "source": [
    "# Optimizing A Simple DNN Training Program Using Nsight Systems\n",
    "Congratulations! You have successfully completed the Nsight Systems training lab on 'Optimizing A Simple DNN Training Program'. We hope that you enjoyed this lab and learned useful techniques and strategies on how to use Nsight Systems to optimize applications to efficiently utilize the system resources.\n",
    "\n",
    "If you are interested in learning more about the tool, here are some resources:\n",
    "- Download Nsight Systems for free from http://developer.nvidia.com/nsight-systems\n",
    "\n",
    "**Training**\n",
    "- Documentation is at https://docs.nvidia.com/nsight-systems/index.html\n",
    "- Blog posts: https://developer.nvidia.com/blog/tag/nsight-systems/\n",
    "\n",
    "**Questions/Requests/Comments?**\n",
    "- Email nsight-systems@nvidia.com\n",
    "- Developer Forums: https://devtalk.nvidia.com/default/board/308/nsight-systems/\n",
    "\n",
    "You may now continue to the Nsight Compute part of this lab. Please click [here](../ncu/01_introduction.ipynb)."
   ]
  }
 ],
 "metadata": {
  "kernelspec": {
   "display_name": "Python 3",
   "language": "python",
   "name": "python3"
  },
  "language_info": {
   "codemirror_mode": {
    "name": "ipython",
    "version": 3
   },
   "file_extension": ".py",
   "mimetype": "text/x-python",
   "name": "python",
   "nbconvert_exporter": "python",
   "pygments_lexer": "ipython3",
   "version": "3.6.9"
  }
 },
 "nbformat": 4,
 "nbformat_minor": 4
}
