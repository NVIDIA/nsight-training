{
 "cells": [
  {
   "cell_type": "markdown",
   "metadata": {},
   "source": [
    "# Optimizing A Simple DNN Training Program Using Nsight Systems\n",
    "\n",
    "## 02 Running the application"
   ]
  },
  {
   "cell_type": "markdown",
   "metadata": {},
   "source": [
    "The [MNIST](https://en.wikipedia.org/wiki/MNIST_database) database (Modified National Institute of Standards and Technology database) is a large database of handwritten digits. We will use it for training a Deep Neural Network (DNN) that recognizes handwritten digits.\n",
    "\n",
    "<img src=\"https://upload.wikimedia.org/wikipedia/commons/2/27/MnistExamples.png\">\n",
    "\n",
    "*Sample images from MNIST test dataset by Josef Steppan is licensed under [CC BY-SA 4.0](https://creativecommons.org/licenses/by-sa/4.0/)*\n",
    "\n",
    "We will focus on a simple DNN training [program](application/main_baseline.py) adopted from https://github.com/pytorch/examples/tree/master/mnist. It uses the [PyTorch](https://github.com/pytorch/pytorch) framework and is accelerated using the Turing GPU available on your target system. Execute the following cell to run the program."
   ]
  },
  {
   "cell_type": "code",
   "execution_count": null,
   "metadata": {
    "scrolled": true,
    "tags": []
   },
   "outputs": [],
   "source": [
    "!cd /dli/task/nsys/application && time python3 main_baseline.py"
   ]
  },
  {
   "cell_type": "markdown",
   "metadata": {},
   "source": [
    "While the program is running, let's look at a short introduction to the application. The training is done in batches and epochs. For each batch,\n",
    "- data is copied to the GPU,\n",
    "- forward pass runs on the GPU,\n",
    "- backward pass runs on the GPU.\n",
    "\n",
    "View the full Python script of the training program at [main_baseline.py](application/main_baseline.py).\n",
    "\n",
    "You can see the three steps of the training algorithm annotated in the screenshot below.\n",
    "\n",
    "<img src=\"images/Training_program.jpg\" width=70%>\n",
    "\n",
    "Let's look at the typical optimization workflow and how Nsight Systems can help you in [step 03](03_optimization_workflow.ipynb)"
   ]
  }
 ],
 "metadata": {
  "kernelspec": {
   "display_name": "Python 3",
   "language": "python",
   "name": "python3"
  },
  "language_info": {
   "codemirror_mode": {
    "name": "ipython",
    "version": 3
   },
   "file_extension": ".py",
   "mimetype": "text/x-python",
   "name": "python",
   "nbconvert_exporter": "python",
   "pygments_lexer": "ipython3",
   "version": "3.6.9"
  }
 },
 "nbformat": 4,
 "nbformat_minor": 4
}
