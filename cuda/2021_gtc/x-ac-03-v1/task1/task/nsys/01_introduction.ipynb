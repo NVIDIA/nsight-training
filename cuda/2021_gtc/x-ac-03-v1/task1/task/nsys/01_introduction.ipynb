{
 "cells": [
  {
   "cell_type": "markdown",
   "metadata": {},
   "source": [
    "# Optimizing A Simple DNN Training Program Using Nsight Systems\n",
    "\n",
    "## 01 Introduction"
   ]
  },
  {
   "cell_type": "markdown",
   "metadata": {},
   "source": [
    "This lab teaches you how to use NVIDIA's [Nsight Systems](https://developer.nvidia.com/nsight-systems), a system-wide profiler, to profile, analyze, and optimize applications. The exercises in this lab will focus on optimizing a Deep Neural Network (DNN) training program (a version of the PyTorch's MNIST [example](https://github.com/pytorch/examples/tree/master/mnist)) that detects hand-written digits. The techniques and strategies illustrated in this lab will translate to optimizing any application that uses NVIDIA's GPUs.\n",
    "\n",
    "In this tutorial, you will learn how to do the following.\n",
    "- Run the sample application\n",
    "- Use Nsight Systems to profile the application\n",
    "- Interpret the timeline provided by Nsight Systems and understand the application's use of the system resources\n",
    "- Identify performance problems in the application and apply optimization strategies\n",
    "- Confirm the performance improvement gained from the optimizations\n",
    "\n",
    "The tutorial uses Ubuntu 18.04 and CUDA 11.2. Let us use the `nvidia-smi` utility to check the installed driver and the GPU(s) available on the target system. Please execute the cell below by selecting the cell and\n",
    "- Clicking on the 'play' button in the menu at the top of this notebook\n",
    "- Or using the Ctrl+Enter keyboard shortcut.\n",
    "\n",
    "(Note: Remember this handy trick because we will be using it over and over again in this lab.)"
   ]
  },
  {
   "cell_type": "code",
   "execution_count": null,
   "metadata": {},
   "outputs": [],
   "source": [
    "!nvidia-smi"
   ]
  },
  {
   "cell_type": "markdown",
   "metadata": {},
   "source": [
    "We are now ready to [Continue with step 02](02_pytorch_mnist.ipynb)"
   ]
  }
 ],
 "metadata": {
  "kernelspec": {
   "display_name": "Python 3",
   "language": "python",
   "name": "python3"
  },
  "language_info": {
   "codemirror_mode": {
    "name": "ipython",
    "version": 3
   },
   "file_extension": ".py",
   "mimetype": "text/x-python",
   "name": "python",
   "nbconvert_exporter": "python",
   "pygments_lexer": "ipython3",
   "version": "3.6.9"
  }
 },
 "nbformat": 4,
 "nbformat_minor": 4
}
