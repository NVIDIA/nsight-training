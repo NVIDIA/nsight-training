{
 "cells": [
  {
   "cell_type": "markdown",
   "metadata": {},
   "source": [
    "# Optimizing Online 5g Machine-Learning with Nsight Compute\n",
    "\n",
    "## 08 Summary"
   ]
  },
  {
   "cell_type": "markdown",
   "metadata": {},
   "source": [
    "Congratulations, you successfully completed this Nsight Compute training lab on Optimizing Online 5g Machine-Learning codes. We hope you enjoyed it and learned useful knowledge on CUDA kernel optimization and how to use Nsight Compute for inspecting detailed performance metrics."
   ]
  },
  {
   "cell_type": "markdown",
   "metadata": {},
   "source": [
    "If you are interested in further content:\n",
    "- Work through the optimization in [step 7](07_balanced.ipynb)\n",
    "- Take the [Nsight Systems](../nsys/01_introduction.ipynb) portion of the lab, if you haven't yet.\n",
    "- Watch the APSM [NOMA on the GPU in Real Time](https://gtc21.event.nvidia.com/media/NOMA%20on%20the%20GPU%20in%20Real%20Time%20%5BS31435%5D/1_xxizk40n/204678303) GTC talk and read any skipped content in the [APSM notebook](02_apsm.ipynb)\n",
    "- Read interesting posts on an [Nsight Compute Blog](https://developer.nvidia.com/nsight-compute-blogs) or\n",
    "- Watch a [video](https://developer.nvidia.com/nsight-compute-videos)"
   ]
  },
  {
   "cell_type": "markdown",
   "metadata": {},
   "source": [
    "If you have further questions on Nsight Compute, reach out to us in our [forum](https://devtalk.nvidia.com/default/board/327/nsight-compute-/) or try the help:"
   ]
  },
  {
   "cell_type": "code",
   "execution_count": null,
   "metadata": {},
   "outputs": [],
   "source": [
    "!ncu --help"
   ]
  }
 ],
 "metadata": {
  "kernelspec": {
   "display_name": "Python 3",
   "language": "python",
   "name": "python3"
  },
  "language_info": {
   "codemirror_mode": {
    "name": "ipython",
    "version": 3
   },
   "file_extension": ".py",
   "mimetype": "text/x-python",
   "name": "python",
   "nbconvert_exporter": "python",
   "pygments_lexer": "ipython3",
   "version": "3.6.9"
  }
 },
 "nbformat": 4,
 "nbformat_minor": 4
}
