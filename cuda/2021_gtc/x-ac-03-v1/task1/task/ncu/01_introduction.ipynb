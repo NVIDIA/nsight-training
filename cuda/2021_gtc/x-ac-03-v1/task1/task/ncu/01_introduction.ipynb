{
 "cells": [
  {
   "cell_type": "markdown",
   "metadata": {},
   "source": [
    "# Optimizing Online 5g Machine-Learning with Nsight Compute\n",
    "\n",
    "## 01 Introduction"
   ]
  },
  {
   "cell_type": "markdown",
   "metadata": {},
   "source": [
    "This lab teaches how to use NVIDIA's [Nsight Compute](https://developer.nvidia.com/nsight-compute) kernel profiler to analyze and optimize CUDA kernels. For the exercises, we use an online machine learning code for 5G developed by the Heinrich-Herz-Institute and NVIDIA."
   ]
  },
  {
   "cell_type": "markdown",
   "metadata": {},
   "source": [
    "<img src=\"images/ncu_intro.png\" width=\"500\">"
   ]
  },
  {
   "cell_type": "markdown",
   "metadata": {},
   "source": [
    "In this tutorial, you will learn how to\n",
    "- Build and run the APSM example code\n",
    "- Interactively profile CUDA kernels in the Nsight Compute UI\n",
    "- Understand Nsight Compute reports and apply optimizations\n",
    "- Compare the performance of various iterations of a CUDA kernel"
   ]
  },
  {
   "cell_type": "markdown",
   "metadata": {},
   "source": [
    "The tutorial uses Ubuntu 18.04 and CUDA 11.2. Both Nsight Compute and Nsight Systems are included in the CUDA 11.2 toolkit package. Start by verifying that the target system has the NVIDIA driver installed. Let's look at the available GPU(s) with the nvidia-smi utility, by executing the cell below."
   ]
  },
  {
   "cell_type": "code",
   "execution_count": null,
   "metadata": {},
   "outputs": [],
   "source": [
    "!nvidia-smi"
   ]
  },
  {
   "cell_type": "markdown",
   "metadata": {},
   "source": [
    "We are now ready to [Continue with step 02](02_apsm.ipynb)"
   ]
  }
 ],
 "metadata": {
  "kernelspec": {
   "display_name": "Python 3",
   "language": "python",
   "name": "python3"
  },
  "language_info": {
   "codemirror_mode": {
    "name": "ipython",
    "version": 3
   },
   "file_extension": ".py",
   "mimetype": "text/x-python",
   "name": "python",
   "nbconvert_exporter": "python",
   "pygments_lexer": "ipython3",
   "version": "3.6.9"
  }
 },
 "nbformat": 4,
 "nbformat_minor": 4
}
