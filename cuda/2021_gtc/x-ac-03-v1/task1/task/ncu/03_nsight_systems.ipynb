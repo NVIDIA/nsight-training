{
 "cells": [
  {
   "cell_type": "markdown",
   "metadata": {},
   "source": [
    "# Optimizing Online 5g Machine-Learning with Nsight Compute\n",
    "\n",
    "## 03 Selecting optimization targets"
   ]
  },
  {
   "cell_type": "markdown",
   "metadata": {},
   "source": [
    "Now that we have the code running on the GPU, we want to get a high-level idea of its bottlenecks. This will allow us to properly select optimization targets. We can use NVIDIA's [Nsight Systems](https://developer.nvidia.com/nsight-systems) to collect a timeline of the application's CPU and GPU CUDA activities. Below is a screenshot from the resulting report."
   ]
  },
  {
   "cell_type": "markdown",
   "metadata": {},
   "source": [
    "Multiple rows shows the CPU utilization, CPU CUDA API calls and GPU CUDA kernels (in blue). The sample application has two distinct phases: training and detection. While the training phase makes up the longer part in our simplified test app, we want to focus on optimizing the detection phase. `In a real-world scenario`, both training and detection would run (since this is an online machine-learning code), but training also uses the detection code internally, making it the more valuable optimization target.\n",
    "\n",
    "In the the CUDA streams, we see that the training phase is composed of multiple invocations of the very short kernel_apsm_training, while the detection phase is one relatively long execution of `kernel_apsm_detect`."
   ]
  },
  {
   "cell_type": "markdown",
   "metadata": {},
   "source": [
    "<img src=\"images/nsys_original.png\">"
   ]
  },
  {
   "cell_type": "markdown",
   "metadata": {},
   "source": [
    "Since we want to optimize the detection part of the algorithm, let's have a `closer look at kernel_apsm_detect in Nsight Compute`."
   ]
  },
  {
   "cell_type": "markdown",
   "metadata": {},
   "source": [
    "Proceed to [step 04](04_nsight_compute.ipynb)"
   ]
  }
 ],
 "metadata": {
  "kernelspec": {
   "display_name": "Python 3",
   "language": "python",
   "name": "python3"
  },
  "language_info": {
   "codemirror_mode": {
    "name": "ipython",
    "version": 3
   },
   "file_extension": ".py",
   "mimetype": "text/x-python",
   "name": "python",
   "nbconvert_exporter": "python",
   "pygments_lexer": "ipython3",
   "version": "3.6.9"
  }
 },
 "nbformat": 4,
 "nbformat_minor": 4
}
