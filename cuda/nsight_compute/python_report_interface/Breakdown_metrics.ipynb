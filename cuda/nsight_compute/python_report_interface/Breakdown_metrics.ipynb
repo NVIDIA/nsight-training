{
 "cells": [
  {
   "cell_type": "markdown",
   "metadata": {},
   "source": [
    "# Breakdown Metrics"
   ]
  },
  {
   "cell_type": "markdown",
   "metadata": {},
   "source": [
    "In this notebook you will learn how to:\n",
    "\n",
    "* Find breakdown metrics in an NVIDIA Nsight Compute report\n",
    "* Extract and iterate over all its underlying metrics"
   ]
  },
  {
   "cell_type": "markdown",
   "metadata": {},
   "source": [
    "## Setup"
   ]
  },
  {
   "cell_type": "markdown",
   "metadata": {},
   "source": [
    "First, import NVIDIA Nsight Compute's Python Report Interface (PRI) as `ncu_report`\n",
    "and load an `ncu-rep` report file with `load_report`.\n",
    "We then extract a `kernel` using the subscript operator to get the first `IAction` of the first `IRange` of the `report`:"
   ]
  },
  {
   "cell_type": "code",
   "execution_count": null,
   "metadata": {},
   "outputs": [],
   "source": [
    "import ncu_report\n",
    "\n",
    "report_file_path = \"../sample_reports/mergeSort.ncu-rep\"\n",
    "report = ncu_report.load_report(report_file_path)\n",
    "kernel = report[0][0]"
   ]
  },
  {
   "cell_type": "markdown",
   "metadata": {},
   "source": [
    "## Finding Breakdown Metrics"
   ]
  },
  {
   "cell_type": "markdown",
   "metadata": {},
   "source": [
    "NVIDIA Nsight Compute supports many\n",
    "[throughput metrics](https://docs.nvidia.com/nsight-\"compute/ProfilingGuide/index.html#metrics-structure),\n",
    "e.g. in the SOL section, for overall compute and memory throughput of a kernel.\n",
    "\n",
    "The single value of a throughput metric is computed as the maximum of a _breakdown_ of underlying metrics.\n",
    "The tool supports gathering these underlying metrics by collecting `breakdown:<throughput_metric_name>`.\n",
    "For compute and memory throughput, this is already done as part of the SOL section.\n",
    "\n",
    "To identify the underlying metric that gives the throughput its value, you need to look,\n",
    "at the breakdown's constituents individually.\n",
    "Breakdown metrics always contain the prefix \"breakdown\", which makes it easy to find them:"
   ]
  },
  {
   "cell_type": "code",
   "execution_count": null,
   "metadata": {},
   "outputs": [],
   "source": [
    "for name in kernel:\n",
    "    if \"breakdown\" in name:\n",
    "        print(name)"
   ]
  },
  {
   "cell_type": "markdown",
   "metadata": {},
   "source": [
    "For further information about the metric naming scheme please refer to the\n",
    "[online documentation](https://docs.nvidia.com/nsight-compute/ProfilingGuide/index.html#metrics-structure)."
   ]
  },
  {
   "cell_type": "markdown",
   "metadata": {},
   "source": [
    "## Unpacking Breakdown Metrics"
   ]
  },
  {
   "cell_type": "markdown",
   "metadata": {},
   "source": [
    "Having found a breakdown metric you can use its value to query all of its underlying metrics.\n",
    "The value of a breakdown metric is a string of comma-separated metric names. You can obtain\n",
    "the string by calling `value()` on the breakdown metric.\n",
    "\n",
    "After this, you can use the individual metric names to extract the underlying metrics from `kernel`:"
   ]
  },
  {
   "cell_type": "code",
   "execution_count": null,
   "metadata": {},
   "outputs": [],
   "source": [
    "breakdown_name = \"breakdown:sm__throughput.avg.pct_of_peak_sustained_elapsed\"\n",
    "breakdown_metric = kernel[breakdown_name]\n",
    "metric_names = breakdown_metric.value().split(\",\")\n",
    "\n",
    "print(f\"Breakdown of metric {breakdown_name}:\")\n",
    "for name in metric_names:\n",
    "    print(f\"  {name}: {kernel[name].value():.2f}%\")"
   ]
  }
 ],
 "metadata": {
  "kernelspec": {
   "display_name": "base",
   "language": "python",
   "name": "python3"
  },
  "language_info": {
   "codemirror_mode": {
    "name": "ipython",
    "version": 3
   },
   "file_extension": ".py",
   "mimetype": "text/x-python",
   "name": "python",
   "nbconvert_exporter": "python",
   "pygments_lexer": "ipython3",
   "version": "3.9.13"
  },
  "orig_nbformat": 4,
  "vscode": {
   "interpreter": {
    "hash": "980371efc09d79af10597fc0541da4320ce4f3e067752c6a7ec257bcdc2f4996"
   }
  }
 },
 "nbformat": 4,
 "nbformat_minor": 2
}
