{
 "cells": [
  {
   "cell_type": "markdown",
   "metadata": {},
   "source": [
    "# Metrics attributes\n",
    "\n",
    "In this notebook, we will have a closer look at the new `NvRule` `IMetric` attributes.\n",
    "In particular, we will look at the following API functions:\n",
    "* `IMetric.metric_type()`\n",
    "* `IMetric.metric_subtype()`\n",
    "* `IMetric.rollup_operation()`\n",
    "* `IMetric.unit()`\n",
    "* `IMetric.description()`\n",
    "\n",
    "The first three methods are particularly useful to filter through a list of metrics,\n",
    "as they return enum values of three different kinds: `IMetric.MetricType_*`,\n",
    "`IMetric.MetricSubtype_*` and `IMetric.RollupOperation_*`.\n",
    "\n",
    "The `unit()` function on the other hand provides a convenient way to get the unit of a metric as a string,\n",
    "whereas `description()` returns a short textual description for hardware metrics."
   ]
  },
  {
   "cell_type": "markdown",
   "metadata": {},
   "source": [
    "## Setup"
   ]
  },
  {
   "cell_type": "markdown",
   "metadata": {},
   "source": [
    "### Import `ncu_report`\n",
    "\n",
    "Either extent your `PYTHONPATH` environment variable with the `ncu_report` include\n",
    "directory (usually located within your installation folder at `extras/python`) or\n",
    "add the include director as a `site` dir."
   ]
  },
  {
   "cell_type": "code",
   "execution_count": null,
   "metadata": {},
   "outputs": [],
   "source": [
    "import ncu_report\n",
    "from ncu_report import IMetric"
   ]
  },
  {
   "cell_type": "markdown",
   "metadata": {},
   "source": [
    "### Load a report file"
   ]
  },
  {
   "cell_type": "code",
   "execution_count": null,
   "metadata": {},
   "outputs": [],
   "source": [
    "path_to_report_file = \"../sample_reports/sample_report.ncu-rep\"\n",
    "report = ncu_report.load_report(path_to_report_file)"
   ]
  },
  {
   "cell_type": "markdown",
   "metadata": {},
   "source": [
    "### Extract a valid action from the `report`\n",
    "\n",
    "We use the first `IRange` object of the report which contains\n",
    "a single `IAction` object. This, in turn will give us access to\n",
    "the `IMetric`s objects that we want to process further."
   ]
  },
  {
   "cell_type": "code",
   "execution_count": null,
   "metadata": {},
   "outputs": [],
   "source": [
    "action = report.range_by_idx(0).action_by_idx(0)"
   ]
  },
  {
   "cell_type": "markdown",
   "metadata": {},
   "source": [
    "## Use case 1: Filter metrics based on their attributes"
   ]
  },
  {
   "cell_type": "markdown",
   "metadata": {},
   "source": [
    "### Convert all metrics to a list\n",
    "\n",
    "Using list comprehension, we can make iteration over all metrics very simple."
   ]
  },
  {
   "cell_type": "code",
   "execution_count": null,
   "metadata": {},
   "outputs": [],
   "source": [
    "metrics = [action[name] for name in action.metric_names()]"
   ]
  },
  {
   "cell_type": "markdown",
   "metadata": {},
   "source": [
    "The simples way to filter metrics is by using their\n",
    "`metric_type()`:"
   ]
  },
  {
   "cell_type": "code",
   "execution_count": null,
   "metadata": {},
   "outputs": [],
   "source": [
    "print(\"Throughput metrics:\")\n",
    "for metric in metrics:\n",
    "    if metric.metric_type() == IMetric.MetricType_THROUGHPUT:\n",
    "        print(f\"  {metric.name()}: {metric.value():.2f}{metric.unit()}\")"
   ]
  },
  {
   "cell_type": "markdown",
   "metadata": {},
   "source": [
    "More advanced types of filtering might make use of\n",
    "`metric_type()`, `metric_subtype()` and `rollup_operation()`.\n",
    "\n",
    "We also use `unit()` to get a string representation of the unit\n",
    "associated with a given metric:"
   ]
  },
  {
   "cell_type": "code",
   "execution_count": null,
   "metadata": {},
   "outputs": [],
   "source": [
    "print(\"Averaged Counter metrics per second:\")\n",
    "for metric in metrics:\n",
    "    if metric.metric_type() == IMetric.MetricType_COUNTER and \\\n",
    "       metric.metric_subtype() == IMetric.MetricSubtype_PER_SECOND and \\\n",
    "       metric.rollup_operation() == IMetric.RollupOperation_AVG:\n",
    "        print(f\"  {metric.name()}: {metric.value():,.0f} {metric.unit()}\")"
   ]
  },
  {
   "cell_type": "markdown",
   "metadata": {},
   "source": [
    "## Use case 2: Accumulate metrics from different reports"
   ]
  },
  {
   "cell_type": "markdown",
   "metadata": {},
   "source": [
    "Suppose we have other reports (or other actions within the same report) and want to combine all the values of a given metric across all reports (actions)."
   ]
  },
  {
   "cell_type": "markdown",
   "metadata": {},
   "source": [
    "To demonstrate how we might do this using `rollup_operation()` let's first load another action:"
   ]
  },
  {
   "cell_type": "code",
   "execution_count": null,
   "metadata": {},
   "outputs": [],
   "source": [
    "path_to_other_report_file = \"../sample_reports/sample_report_2.ncu-rep\"\n",
    "other_report = ncu_report.load_report(path_to_other_report_file)\n",
    "other_action = other_report.range_by_idx(0).action_by_idx(0) "
   ]
  },
  {
   "cell_type": "markdown",
   "metadata": {},
   "source": [
    "We can define a function that takes the name of the metric we want to accumulate as well as a list of all the actions that contain said metric:"
   ]
  },
  {
   "cell_type": "code",
   "execution_count": null,
   "metadata": {},
   "outputs": [],
   "source": [
    "def accumulate_from_actions(metric_name, actions):\n",
    "    # construct a list of all values of the metric with name 'metric_name'\n",
    "    values = [action[metric_name].value() for action in actions]\n",
    "\n",
    "    # query the rollup operation of the given metric\n",
    "    operation = actions[0][metric_name].rollup_operation()\n",
    "\n",
    "    # accumulate all values using the correct rollup operation\n",
    "    if operation == IMetric.RollupOperation_SUM:\n",
    "        return sum(values)\n",
    "    elif operation == IMetric.RollupOperation_AVG:\n",
    "        return sum(values) / len(values)\n",
    "    elif operation == IMetric.RollupOperation_MIN:\n",
    "        return min(values)\n",
    "    elif operation == IMetric.RollupOperation_MAX:\n",
    "        return max(values)\n",
    "    else:\n",
    "        raise RuntimeError(\"Cannot accumulate metrics when rollup_operation() == None\")"
   ]
  },
  {
   "cell_type": "markdown",
   "metadata": {},
   "source": [
    "Let's pick the name of a metric we want to look at. (You can comment in/out different names and compare the results.)"
   ]
  },
  {
   "cell_type": "code",
   "execution_count": null,
   "metadata": {},
   "outputs": [],
   "source": [
    "metric_name = \"sm__throughput.avg.pct_of_peak_sustained_elapsed\"\n",
    "# metric_name = \"gpu__time_duration.sum\"\n",
    "# metric_name = \"profiler__replayer_bytes_mem_accessible.min\"\n",
    "# metric_name = \"profiler__replayer_bytes_mem_accessible.max\"\n",
    "# metric_name = \"sm__maximum_warps_per_active_cycle_pct\" # no rollup operation defined"
   ]
  },
  {
   "cell_type": "markdown",
   "metadata": {},
   "source": [
    "Next, we unpack the metrics, query some of their properties and calculate the accumulated value:"
   ]
  },
  {
   "cell_type": "code",
   "execution_count": null,
   "metadata": {},
   "outputs": [],
   "source": [
    "metric = action[metric_name]\n",
    "other_metric = other_action[metric_name]\n",
    "\n",
    "description = metric.description()\n",
    "unit = metric.unit()\n",
    "value = metric.value()\n",
    "other_value = other_metric.value()\n",
    "accumulated_value = accumulate_from_actions(metric_name, [action, other_action])"
   ]
  },
  {
   "cell_type": "markdown",
   "metadata": {},
   "source": [
    "Let's look at a summary of what we have found:"
   ]
  },
  {
   "cell_type": "code",
   "execution_count": null,
   "metadata": {},
   "outputs": [],
   "source": [
    "print(f\"{metric_name}:\")\n",
    "print(f\"  Description: {description}\")\n",
    "print(f\"  First value: {value:.2f}{unit}\")\n",
    "print(f\"  Second value: {other_value:.2f}{unit}\")\n",
    "print(f\"  Accumulated value: {accumulated_value:.2f}{unit}\")"
   ]
  }
 ],
 "metadata": {
  "kernelspec": {
   "display_name": "Python 3.8.10 64-bit",
   "language": "python",
   "name": "python3"
  },
  "language_info": {
   "codemirror_mode": {
    "name": "ipython",
    "version": 3
   },
   "file_extension": ".py",
   "mimetype": "text/x-python",
   "name": "python",
   "nbconvert_exporter": "python",
   "pygments_lexer": "ipython3",
   "version": "3.8.10"
  },
  "orig_nbformat": 4,
  "vscode": {
   "interpreter": {
    "hash": "e7370f93d1d0cde622a1f8e1c04877d8463912d04d973331ad4851f04de6915a"
   }
  }
 },
 "nbformat": 4,
 "nbformat_minor": 2
}
