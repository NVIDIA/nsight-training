{
 "cells": [
  {
   "attachments": {},
   "cell_type": "markdown",
   "metadata": {},
   "source": [
    "# Aggregate Instruction Statistics"
   ]
  },
  {
   "attachments": {},
   "cell_type": "markdown",
   "metadata": {},
   "source": [
    "This notebook combines and extends the content presented in [Opcode-Instanced Metrics](Opcode_instanced_metrics.ipynb) and [Source-Correlated Metrics](Source_correlated_metrics.ipynb). You will learn how to\n",
    "\n",
    "* Inspect instruction-level SASS metrics\n",
    "* Correlate SASS addresses and CUDA-C lines\n",
    "* Aggregate instruction statistics not readily available from existing UI"
   ]
  },
  {
   "cell_type": "markdown",
   "metadata": {},
   "source": [
    "## Setup"
   ]
  },
  {
   "attachments": {},
   "cell_type": "markdown",
   "metadata": {},
   "source": [
    "First, import NVIDIA Nsight Compute's Python Report Interface (PRI) as `ncu_report`\n",
    "and load an `ncu-rep` report file with `load_report`:"
   ]
  },
  {
   "cell_type": "code",
   "execution_count": null,
   "metadata": {},
   "outputs": [],
   "source": [
    "import ncu_report\n",
    "\n",
    "report_file_path = \"../sample_reports/mergeSort.ncu-rep\"\n",
    "report = ncu_report.load_report(report_file_path)"
   ]
  },
  {
   "attachments": {},
   "cell_type": "markdown",
   "metadata": {},
   "source": [
    "Now that we have our report loaded, it's time to aggregate the data we are interested in. The next code cell implements the following algorithm:\n",
    "\n",
    "* Iterate over all executed SASS instructions (opcodes and values are given as examples and may differ in your report)\n",
    "```\n",
    "Address         Source                             inst_executed\n",
    "0x7f3db4452960  MUFU.RCP64H R5, 9                     64320\n",
    "...             ...                                    -\n",
    "0x7f3db4452990  IMAD.MOV.U32 R20, RZ, RZ, 0x0         64320\n",
    "0x7f3db44529a0  IMAD.MOV.U32 R21, RZ, RZ, 0x40220000  64320\n",
    "...             ...                                    -\n",
    "0x7f3db44529c0  IMAD.MOV.U32 R4, RZ, RZ, 0x1          64320\n",
    "...             ...                                    -\n",
    "0x7f3db44529f0  UMOV UR4, URZ                         64320\n",
    "0x7f3db4452a00  BSSY B0, 0x7f3db4452cd0               64320\n",
    "...             ...                                    -\n",
    "```\n",
    "\n",
    "* Extract opcode part from disassembly\n",
    "```\n",
    "MUFU.RCP64H R5, 9                    -> MUFU.RCP64H\n",
    "IMAD.MOV.U32 R20, RZ, RZ, 0x0        -> IMAD.MOV.U32\n",
    "IMAD.MOV.U32 R21, RZ, RZ, 0x40220000 -> IMAD.MOV.U32\n",
    "```\n",
    "\n",
    "* Correlate SASS with CUDA-C and aggregate values\n",
    "```\n",
    "Line 101:\n",
    "  MUFU.RCP64H  : 64320\n",
    "  IMAD.MOV.U32 : 192960\n",
    "  UMOV.UR4     : 64320\n",
    "  BSSY         : 64320\n",
    "```"
   ]
  },
  {
   "cell_type": "code",
   "execution_count": null,
   "metadata": {},
   "outputs": [],
   "source": [
    "import re\n",
    "\n",
    "def aggregate_instructions(inst_executed):\n",
    "    # get all its instance (per-instruction) values\n",
    "    num_instances = inst_executed.num_instances()\n",
    "    # get program counters (addresses within the function)\n",
    "    pcs = inst_executed.correlation_ids()\n",
    "\n",
    "    # regex pattern to extract the SASS opcode part we want\n",
    "    opcode_pattern = re.compile(\"\\s*(?:@\\!?P\\d\\s+)?([\\w\\.]+)\\s+.*\")\n",
    "\n",
    "    # iterate over all executed instructions\n",
    "    inst_locations = dict()\n",
    "    for inst in range(0, num_instances):\n",
    "        pc = pcs.as_uint64(inst)\n",
    "        value = inst_executed.as_uint64(inst)\n",
    "\n",
    "        # aggregate the SASS-level metric to CUDA-C using\n",
    "        # lineinfo correlation from the compiler\n",
    "        source = kernel.source_info(pc)\n",
    "        if value > 0 and source:\n",
    "            file = source.file_name()\n",
    "            line = source.line()\n",
    "\n",
    "            # get the SASS at this address and extract the opcode\n",
    "            # track the number of times the opcode was executed\n",
    "            sass = kernel.sass_by_pc(pc)\n",
    "            m = opcode_pattern.match(sass)\n",
    "            if m:\n",
    "                opcode = m.group(1)\n",
    "                if not file in inst_locations:\n",
    "                    inst_locations[file] = dict()\n",
    "                if not line in inst_locations[file]:\n",
    "                    inst_locations[file][line] = dict()\n",
    "                if not opcode in inst_locations[file][line]:\n",
    "                    inst_locations[file][line][opcode] = 0\n",
    "                inst_locations[file][line][opcode] += value\n",
    "\n",
    "    return inst_locations\n",
    "\n",
    "\n",
    "kernel = report[0][0]\n",
    "print(f\"Kernel: {kernel.name()}\")\n",
    "\n",
    "# get the executed warp-level instructions metric for this kernel\n",
    "# and aggregate statistics\n",
    "metric = kernel[\"inst_executed\"]\n",
    "stats = aggregate_instructions(metric)\n"
   ]
  },
  {
   "attachments": {},
   "cell_type": "markdown",
   "metadata": {},
   "source": [
    "Finally, we sort the results per CUDA-C line and print everything:\n",
    "```\n",
    "Line 101:\n",
    "  IMAD.MOV.U32 : 192k\n",
    "  BSSY         : 64k\n",
    "  MUFU.RCP64H  : 64k\n",
    "  UMOV.UR4     : 64k\n",
    "```"
   ]
  },
  {
   "cell_type": "code",
   "execution_count": null,
   "metadata": {},
   "outputs": [],
   "source": [
    "for file in stats:\n",
    "    print(f\"Line| File: {file}\")\n",
    "    for line in stats[file]:\n",
    "        print(f\"{line:-4}\")\n",
    "        for opcode,value in dict(sorted(stats[file][line].items(), reverse=True, key=lambda item: item[1])).items():\n",
    "            print(f\"    | {opcode:15}:{(value/1000):-6.1f}k\")"
   ]
  }
 ],
 "metadata": {
  "kernelspec": {
   "display_name": "base",
   "language": "python",
   "name": "python3"
  },
  "language_info": {
   "codemirror_mode": {
    "name": "ipython",
    "version": 3
   },
   "file_extension": ".py",
   "mimetype": "text/x-python",
   "name": "python",
   "nbconvert_exporter": "python",
   "pygments_lexer": "ipython3",
   "version": "3.8.10"
  },
  "orig_nbformat": 4,
  "vscode": {
   "interpreter": {
    "hash": "980371efc09d79af10597fc0541da4320ce4f3e067752c6a7ec257bcdc2f4996"
   }
  }
 },
 "nbformat": 4,
 "nbformat_minor": 2
}
