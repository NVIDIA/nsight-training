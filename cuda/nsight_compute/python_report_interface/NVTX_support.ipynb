{
 "cells": [
  {
   "cell_type": "markdown",
   "metadata": {},
   "source": [
    "# NVTX Support"
   ]
  },
  {
   "cell_type": "markdown",
   "metadata": {},
   "source": [
    "In this notebook you will learn how to:\n",
    "\n",
    "* Filter kernels based on NVTX ranges\n",
    "* Extract the NVTX push/pop stack for a given kernel\n",
    "* Extract NVTX event attributes for a given kernel"
   ]
  },
  {
   "cell_type": "markdown",
   "metadata": {},
   "source": [
    "## Setup"
   ]
  },
  {
   "cell_type": "markdown",
   "metadata": {},
   "source": [
    "First, import NVIDIA Nsight Compute's Python Report Interface (PRI) as `ncu_report`\n",
    "and load an `ncu-rep` report file with `load_report`."
   ]
  },
  {
   "cell_type": "code",
   "execution_count": null,
   "metadata": {},
   "outputs": [],
   "source": [
    "import ncu_report\n",
    "\n",
    "report_file_path = \"../sample_reports/manual_nvtx.ncu-rep\"\n",
    "report = ncu_report.load_report(report_file_path)"
   ]
  },
  {
   "cell_type": "markdown",
   "metadata": {},
   "source": [
    "Next, extract all `kernels` using the subscript operator to get the first `IRange` object of the `report` object:"
   ]
  },
  {
   "cell_type": "code",
   "execution_count": null,
   "metadata": {},
   "outputs": [],
   "source": [
    "kernels = report[0]"
   ]
  },
  {
   "cell_type": "markdown",
   "metadata": {},
   "source": [
    "## Kernel Filtering based on NVTX Ranges"
   ]
  },
  {
   "cell_type": "markdown",
   "metadata": {},
   "source": [
    "The NVIDIA Tools Extension (NVTX) is an application programming interface that enables users to annotate\n",
    "applications with events and resource names in order to customize their profiling experience\n",
    "when using NVIDIA's developer tools. A full reference of all features of NVTX  may be found in the\n",
    "[CUDA Toolkit Documentation](https://docs.nvidia.com/cuda/profiler-users-guide/index.html#nvtx).\n",
    "\n",
    "This notebook and the accompanying report are based on the introductory example from\n",
    "[this Technical Blog post](https://developer.nvidia.com/blog/cuda-pro-tip-generate-custom-application-profile-timelines-nvtx/), which uses Push/Pop Ranges.\n",
    "\n",
    "As a first example, let's look at how you can use the PRI to filter kernel results based on their NVTX ranges.\n",
    "You can do that by calling `IRange.actions_by_nvtx(includes, excludes)` on `kernels` where `includes`\n",
    "and `excludes` are lists of strings that specify which NVTX Ranges to include and exclude, respectively.\n",
    "\n",
    "Including all kernels inside the `\"run_test\"` range, but excluding all kernel in the `\"check_results\"` range\n",
    "would look like this:"
   ]
  },
  {
   "cell_type": "code",
   "execution_count": null,
   "metadata": {},
   "outputs": [],
   "source": [
    "includes = [\"run_test/\"]\n",
    "excludes = [\"check_results/\"]\n",
    "filtered_kernels = [\n",
    "    kernels[index] for index in kernels.actions_by_nvtx(includes, excludes)\n",
    "]\n",
    "\n",
    "for kernel in filtered_kernels:\n",
    "    print(kernel)"
   ]
  },
  {
   "cell_type": "markdown",
   "metadata": {},
   "source": [
    "Note that `actions_by_nvtx` returns a `tuple` of `int`s, each of which specifies the `index` of a valid\n",
    "`IAction` object in `kernels`.\n",
    "You can query these objects by using the subscript operator on the `IRange` object, i.e. `kernels[index]`.\n",
    "\n",
    "Since you are dealing with Push/Pop Ranges here, you need to use `/` as delimiter between range names.\n",
    "The filtering scheme follows the same rules as when using `--nvtx-include`/`--nvtx-exclude` with `ncu` on\n",
    "the command-line. You can find all specifications in the\n",
    "[online documentation](https://docs.nvidia.com/nsight-compute/NsightComputeCli/index.html#nvtx-filtering)."
   ]
  },
  {
   "cell_type": "markdown",
   "metadata": {},
   "source": [
    "## Extracting NVTX Call Stack"
   ]
  },
  {
   "cell_type": "markdown",
   "metadata": {},
   "source": [
    "Having filtered the profiled kernels based on their NVTX ranges, you might want to look at each kernel's\n",
    "NVTX information individually.\n",
    "As a first step, you can look at the NVTX call stack. This is particularly useful when exploring the kernel's\n",
    "execution hierarchy when dealing with an unknown code base.\n",
    "\n",
    "In order to extract NVTX information from an `IAction` object, you will first have to extract an `INvtxState` object from\n",
    "it using `IAction.nvtx_state()`. The latter has a member function `domains()` which returns a `tuple` of all valid\n",
    "NVTX Domains for the given `kernel`:"
   ]
  },
  {
   "cell_type": "code",
   "execution_count": null,
   "metadata": {},
   "outputs": [],
   "source": [
    "for kernel in filtered_kernels:\n",
    "    nvtx_state = kernel.nvtx_state()\n",
    "    print(f\"{kernel}: {nvtx_state.domains()}\")"
   ]
  },
  {
   "cell_type": "markdown",
   "metadata": {},
   "source": [
    "Since the example application only uses the _default domain_ the only valid domain ID for `filtered_kernels` is `0`.\n",
    "With this information you can now extract an `INvtxDomainInfo` object using `INvtxState[0]`.\n",
    "Unpacking the `domain_info` for the `daxpy_kernel` would look like this:"
   ]
  },
  {
   "cell_type": "code",
   "execution_count": null,
   "metadata": {},
   "outputs": [],
   "source": [
    "domain_info = filtered_kernels[1].nvtx_state()[0]"
   ]
  },
  {
   "cell_type": "markdown",
   "metadata": {},
   "source": [
    "You can now use `name()`, `push_pop_ranges()` and `start_end_ranges()` to query the NVTX Domain name,\n",
    "the Push/Pop Range stack, as well as the Start/End Ranges the `daxpy_kernel` belongs to, respectively."
   ]
  },
  {
   "cell_type": "code",
   "execution_count": null,
   "metadata": {},
   "outputs": [],
   "source": [
    "print(\n",
    "    f\"Domain name: {domain_info},\\n\"\n",
    "    f\"Push/Pop Ranges: {domain_info.push_pop_ranges()},\\n\"\n",
    "    f\"Start/Stop Ranges: {domain_info.start_end_ranges()}\"\n",
    ")"
   ]
  },
  {
   "cell_type": "markdown",
   "metadata": {},
   "source": [
    "You can see here that the application indeed uses the _default domain_ for the `daxpy_kernel`\n",
    "and that no Start/Stop Ranges where annotated."
   ]
  },
  {
   "cell_type": "markdown",
   "metadata": {},
   "source": [
    "## Extracting NVTX Event Attributes"
   ]
  },
  {
   "cell_type": "markdown",
   "metadata": {},
   "source": [
    "Apart from a `tuple` of all NVTX Ranges, you can also extract\n",
    "the NVTX Event Attributes of a specific NVTX Range from `domain_info`. This can be done using `push_pop_range(index)`\n",
    "or `start_stop_range(index)` for Push/Pop or Start/Stop Ranges, respectively.\n",
    "\n",
    "Querying the `daxpy` Range for the `daxpy_kernel`, which has index `1` in the `push_pop_ranges()` above,\n",
    "would look like this:"
   ]
  },
  {
   "cell_type": "code",
   "execution_count": null,
   "metadata": {},
   "outputs": [],
   "source": [
    "nvtx_range = domain_info.push_pop_range(1)"
   ]
  },
  {
   "cell_type": "markdown",
   "metadata": {},
   "source": [
    "The return value `nvtx_range` is of type `INvtxRange` and has a number of member functions to retrieve NVTX Event Attributes,\n",
    "including `message()`, `category()`, `color()` and functions for the Payload Attribute:"
   ]
  },
  {
   "cell_type": "code",
   "execution_count": null,
   "metadata": {},
   "outputs": [],
   "source": [
    "print(\n",
    "    f\"Range: {nvtx_range.name()}\\n\"\n",
    "    f\"Has NVTX Event Attributes? {'Yes' if nvtx_range.has_attributes() else 'No'}\\n\"\n",
    "    f\"Category: {nvtx_range.category()}\\n\"\n",
    "    f\"Color: {hex(nvtx_range.color())}\\n\"\n",
    "    f\"Payload Type: {nvtx_range.payload_type()}\\n\"\n",
    "    f\"Message: {nvtx_range.message()}\"\n",
    ")"
   ]
  },
  {
   "cell_type": "markdown",
   "metadata": {},
   "source": [
    "You can learn more about NVTX Event Attributes in the\n",
    "[CUDA Toolkit Documentation](https://docs.nvidia.com/cuda/profiler-users-guide/index.html#nvtx-event-attribute-struct).\n",
    "The full API of the `INvtxRange` class is documented in Nsight Compute's\n",
    "[online documentation](https://docs.nvidia.com/nsight-compute/NvRulesAPI/annotated.html#classNV_1_1Rules_1_1INvtxRange)."
   ]
  }
 ],
 "metadata": {
  "kernelspec": {
   "display_name": "base",
   "language": "python",
   "name": "python3"
  },
  "language_info": {
   "codemirror_mode": {
    "name": "ipython",
    "version": 3
   },
   "file_extension": ".py",
   "mimetype": "text/x-python",
   "name": "python",
   "nbconvert_exporter": "python",
   "pygments_lexer": "ipython3",
   "version": "3.9.13"
  },
  "orig_nbformat": 4,
  "vscode": {
   "interpreter": {
    "hash": "980371efc09d79af10597fc0541da4320ce4f3e067752c6a7ec257bcdc2f4996"
   }
  }
 },
 "nbformat": 4,
 "nbformat_minor": 2
}
