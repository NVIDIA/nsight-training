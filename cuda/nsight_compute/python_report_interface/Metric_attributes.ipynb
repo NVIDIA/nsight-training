{
 "cells": [
  {
   "cell_type": "markdown",
   "metadata": {},
   "source": [
    "# Metrics attributes"
   ]
  },
  {
   "cell_type": "markdown",
   "metadata": {},
   "source": [
    "In this notebook you will learn how to:\n",
    "\n",
    "* Query metric attributes\n",
    "* Filter metrics based on their attributes\n",
    "* Accumulate metrics from different reports"
   ]
  },
  {
   "cell_type": "markdown",
   "metadata": {},
   "source": [
    "## Setup"
   ]
  },
  {
   "cell_type": "markdown",
   "metadata": {},
   "source": [
    "First, import NVIDIA Nsight Compute's Python Report Interface (PRI) as `ncu_report`,\n",
    "as well as `IMetric` for later convenience. Also load an `ncu-rep` report file with `load_report`:"
   ]
  },
  {
   "cell_type": "code",
   "execution_count": null,
   "metadata": {},
   "outputs": [],
   "source": [
    "import ncu_report\n",
    "from ncu_report import IMetric\n",
    "\n",
    "report_file_path = \"../sample_reports/CuVectorAddDrv.ncu-rep\"\n",
    "report = ncu_report.load_report(report_file_path)"
   ]
  },
  {
   "cell_type": "markdown",
   "metadata": {},
   "source": [
    "For later use, unpack the profiling results of the first kernel and create a list of all metrics it contains:"
   ]
  },
  {
   "cell_type": "code",
   "execution_count": null,
   "metadata": {},
   "outputs": [],
   "source": [
    "kernel = report[0][0]\n",
    "metrics = [kernel[name] for name in kernel]"
   ]
  },
  {
   "cell_type": "markdown",
   "metadata": {},
   "source": [
    "## Filter metrics based on their attributes"
   ]
  },
  {
   "cell_type": "markdown",
   "metadata": {},
   "source": [
    "The PRI provides a wide range of functionality to query the attributes of the metrics within a report.\n",
    "This functionality is implemented as member functions of the `IMetric` class, including\n",
    "\n",
    "* `IMetric.metric_type()`\n",
    "* `IMetric.metric_subtype()`\n",
    "* `IMetric.rollup_operation()`\n",
    "* `IMetric.unit()`\n",
    "* `IMetric.description()`\n",
    "\n",
    "The first three methods are particularly useful to filter through a list of metrics,\n",
    "as they return enum values of three different kinds: `IMetric.MetricType_*`,\n",
    "`IMetric.MetricSubtype_*` and `IMetric.RollupOperation_*`.\n",
    "\n",
    "The `unit()` function on the other hand provides a convenient way to get the unit of a metric as a string,\n",
    "whereas `description()` returns a short textual description for hardware metrics.\n",
    "\n",
    "The simplest way to filter metrics is by using their `metric_type()`:"
   ]
  },
  {
   "cell_type": "code",
   "execution_count": null,
   "metadata": {},
   "outputs": [],
   "source": [
    "print(\"Throughput metrics:\")\n",
    "for metric in metrics:\n",
    "    if metric.metric_type() == IMetric.MetricType_THROUGHPUT:\n",
    "        print(f\"  {metric}: {metric.value():.2f}{metric.unit()}\")"
   ]
  },
  {
   "cell_type": "markdown",
   "metadata": {},
   "source": [
    "More advanced types of filtering might make use of\n",
    "`metric_type()`, `metric_subtype()` and `rollup_operation()`.\n",
    "\n",
    "You can also use `unit()` to get a string representation of the unit\n",
    "associated with a given metric:"
   ]
  },
  {
   "cell_type": "code",
   "execution_count": null,
   "metadata": {},
   "outputs": [],
   "source": [
    "print(\"Averaged Counter metrics per second:\")\n",
    "for metric in metrics:\n",
    "    if metric.metric_type() == IMetric.MetricType_COUNTER and \\\n",
    "       metric.metric_subtype() == IMetric.MetricSubtype_PER_SECOND and \\\n",
    "       metric.rollup_operation() == IMetric.RollupOperation_AVG:\n",
    "        print(f\"  {metric}: {metric.value():,.0f} {metric.unit()}\")"
   ]
  },
  {
   "cell_type": "markdown",
   "metadata": {},
   "source": [
    "## Accumulate metrics from different reports"
   ]
  },
  {
   "cell_type": "markdown",
   "metadata": {},
   "source": [
    "Suppose you have other reports (or other actions within the same report) and want to combine all the values of a given metric across all reports (actions).\n",
    "\n",
    "To demonstrate how you might want to do this using `rollup_operation()`, first load a kernel from another report:"
   ]
  },
  {
   "cell_type": "code",
   "execution_count": null,
   "metadata": {},
   "outputs": [],
   "source": [
    "path_to_other_report_file = \"../sample_reports/CuVectorAddDrv_2.ncu-rep\"\n",
    "other_report = ncu_report.load_report(path_to_other_report_file)\n",
    "other_kernel = other_report[0][0]"
   ]
  },
  {
   "cell_type": "markdown",
   "metadata": {},
   "source": [
    "You can define a function that takes the name of the metric you want to accumulate as well as a list of all the actions that contain said metric:"
   ]
  },
  {
   "cell_type": "code",
   "execution_count": null,
   "metadata": {},
   "outputs": [],
   "source": [
    "def accumulate_from_actions(metric_name, actions):\n",
    "    # construct a list of all values of the metric with name 'metric_name'\n",
    "    values = [action[metric_name].value() for action in actions]\n",
    "\n",
    "    # query the rollup operation of the given metric\n",
    "    operation = actions[0][metric_name].rollup_operation()\n",
    "\n",
    "    # accumulate all values using the correct rollup operation\n",
    "    if operation == IMetric.RollupOperation_SUM:\n",
    "        return sum(values)\n",
    "    elif operation == IMetric.RollupOperation_AVG:\n",
    "        return sum(values) / len(values)\n",
    "    elif operation == IMetric.RollupOperation_MIN:\n",
    "        return min(values)\n",
    "    elif operation == IMetric.RollupOperation_MAX:\n",
    "        return max(values)\n",
    "    else:\n",
    "        raise RuntimeError(\"Cannot accumulate metrics when rollup_operation() == None\")"
   ]
  },
  {
   "cell_type": "markdown",
   "metadata": {},
   "source": [
    "Pick the name of a metric you want to look at. (You can comment in/out different names and compare the results.)"
   ]
  },
  {
   "cell_type": "code",
   "execution_count": null,
   "metadata": {},
   "outputs": [],
   "source": [
    "metric_name = \"sm__throughput.avg.pct_of_peak_sustained_elapsed\"\n",
    "# metric_name = \"gpu__time_duration.sum\"\n",
    "# metric_name = \"profiler__replayer_bytes_mem_accessible.min\"\n",
    "# metric_name = \"profiler__replayer_bytes_mem_accessible.max\"\n",
    "# metric_name = \"sm__maximum_warps_per_active_cycle_pct\" # no rollup operation defined"
   ]
  },
  {
   "cell_type": "markdown",
   "metadata": {},
   "source": [
    "Next, unpack the metrics, query some of their properties and calculate the accumulated value:"
   ]
  },
  {
   "cell_type": "code",
   "execution_count": null,
   "metadata": {},
   "outputs": [],
   "source": [
    "metric = kernel[metric_name]\n",
    "other_metric = other_kernel[metric_name]\n",
    "\n",
    "description = metric.description()\n",
    "unit = metric.unit()\n",
    "value = metric.value()\n",
    "other_value = other_metric.value()\n",
    "accumulated_value = accumulate_from_actions(metric_name, [kernel, other_kernel])"
   ]
  },
  {
   "cell_type": "markdown",
   "metadata": {},
   "source": [
    "You can now look at a summary of what you have found:"
   ]
  },
  {
   "cell_type": "code",
   "execution_count": null,
   "metadata": {},
   "outputs": [],
   "source": [
    "print(f\"{metric_name}:\")\n",
    "print(f\"  Description: {description}\")\n",
    "print(f\"  First value: {value:.2f}{unit}\")\n",
    "print(f\"  Second value: {other_value:.2f}{unit}\")\n",
    "print(f\"  Accumulated value: {accumulated_value:.2f}{unit}\")"
   ]
  }
 ],
 "metadata": {
  "kernelspec": {
   "display_name": "Python 3.8.10 64-bit",
   "language": "python",
   "name": "python3"
  },
  "language_info": {
   "codemirror_mode": {
    "name": "ipython",
    "version": 3
   },
   "file_extension": ".py",
   "mimetype": "text/x-python",
   "name": "python",
   "nbconvert_exporter": "python",
   "pygments_lexer": "ipython3",
   "version": "3.10.6"
  },
  "orig_nbformat": 4,
  "vscode": {
   "interpreter": {
    "hash": "e7370f93d1d0cde622a1f8e1c04877d8463912d04d973331ad4851f04de6915a"
   }
  }
 },
 "nbformat": 4,
 "nbformat_minor": 2
}
