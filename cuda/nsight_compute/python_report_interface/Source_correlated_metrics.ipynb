{
 "cells": [
  {
   "cell_type": "markdown",
   "metadata": {},
   "source": [
    "# Source-Correlated Metrics"
   ]
  },
  {
   "cell_type": "markdown",
   "metadata": {},
   "source": [
    "In this notebook you will learn how to:\n",
    "\n",
    "* Find and traverse source-correlated metrics in an NVIDIA Nsight Compute report\n",
    "* Associate individual instances of source-correlated metrics with their corresponding SASS/PTX instructions\n",
    "* Associate these SASS/PTX instructions with the original CUDA-C/C++ code"
   ]
  },
  {
   "cell_type": "markdown",
   "metadata": {},
   "source": [
    "## Setup"
   ]
  },
  {
   "cell_type": "markdown",
   "metadata": {},
   "source": [
    "First, import NVIDIA Nsight Compute's Python Report Interface (PRI) as `ncu_report`\n",
    "and load an `ncu-rep` report file with `load_report`:"
   ]
  },
  {
   "cell_type": "code",
   "execution_count": null,
   "metadata": {},
   "outputs": [],
   "source": [
    "import ncu_report\n",
    "\n",
    "report_file_path = \"../sample_reports/mergeSort.ncu-rep\"\n",
    "report = ncu_report.load_report(report_file_path)"
   ]
  },
  {
   "cell_type": "markdown",
   "metadata": {},
   "source": [
    "For later use, unpack the profiling results of the first kernel and create a list of all metrics it contains:"
   ]
  },
  {
   "cell_type": "code",
   "execution_count": null,
   "metadata": {},
   "outputs": [],
   "source": [
    "kernel = report[0][0]\n",
    "metrics = (kernel[name] for name in kernel)"
   ]
  },
  {
   "cell_type": "markdown",
   "metadata": {},
   "source": [
    "## Identifying Source-Correlated Metrics"
   ]
  },
  {
   "cell_type": "markdown",
   "metadata": {},
   "source": [
    "Source-correlated metrics are PC sampling metrics that can be associated with precise locations in the binary.\n",
    "Inspecting these metrics for conspicuous values might give you a hint where performance optimization efforts should\n",
    "be focused.\n",
    "\n",
    "Which source-correlated metrics will be available within your report will depend on the _Metric Set_ or _Metrics Sections_\n",
    "chosen when collecting the profiling data. To find all source-correlated metrics in a given kernel you can call\n",
    " `has_correlation_ids()` for every `IMetric` object the `IAction` contains.\n",
    "This will evaluate to `True` whenever the metric is correlated with at least one location in the binary."
   ]
  },
  {
   "cell_type": "code",
   "execution_count": null,
   "metadata": {},
   "outputs": [],
   "source": [
    "for metric in metrics:\n",
    "    if metric.has_correlation_ids():\n",
    "        print(f\"{metric} is source-correlated in {metric.num_instances()} places\")"
   ]
  },
  {
   "cell_type": "markdown",
   "metadata": {},
   "source": [
    "## Traversing Source-Correlated Metrics along SASS/PTX instructions"
   ]
  },
  {
   "cell_type": "markdown",
   "metadata": {},
   "source": [
    "Having found a relevant source-correlated metric you can use `IMetric.correlation_ids()` to\n",
    "find all locations with correlation information. In this case, correlation IDs represent `addresses` in the binary.\n",
    "You will be using them shortly to find the SASS/PTX instructions associated with the source-correlated metric.\n",
    "\n",
    "Note that `correlation_ids()` returns a new `IMetric` object which contains the `addresses` as _instance values_.\n",
    "The number of correlations of the source-correlated metric equals the number of instances in that newly created\n",
    "`IMetric` object `addresses`. You can query this number with `num_instances()`.\n",
    "\n",
    "As an example, you can look at uncoalesced accesses to shared memory which can be understood via the excessive L1 wavefronts:"
   ]
  },
  {
   "cell_type": "code",
   "execution_count": null,
   "metadata": {},
   "outputs": [],
   "source": [
    "metric_name = \"derived__memory_l1_wavefronts_shared_excessive\"\n",
    "metric = kernel[metric_name]\n",
    "addresses = metric.correlation_ids()\n",
    "num_correlations = addresses.num_instances()"
   ]
  },
  {
   "cell_type": "markdown",
   "metadata": {},
   "source": [
    "Now, you can look at the _instance values_ of the source-correlated metric, that is, the individual values for each\n",
    "correlation location. You can do this by using `metric.value(index)` for each instance. Likewise, you can now obtain\n",
    "the address for each location using `addresses.value(index)`.\n",
    "\n",
    "With the help of these addresses you can look up the SASS/PTX instructions associate with each correlation location\n",
    "using `IAction.sass_by_pc(address)` and `IAction.ptx_by_pc(address)`, respectively:"
   ]
  },
  {
   "cell_type": "code",
   "execution_count": null,
   "metadata": {},
   "outputs": [],
   "source": [
    "print(f\"All correlations for {metric_name}; total value = {metric.value():,}\")\n",
    "\n",
    "for index in range(num_correlations):\n",
    "    instance_value = metric.value(index)\n",
    "    address = addresses.value(index)\n",
    "    print(\n",
    "        f\"[@{address}]  \"\n",
    "        f\"instance value: {instance_value:<11,}\"\n",
    "        f\"SASS code: {kernel.sass_by_pc(address).strip():<30} \"\n",
    "        f\"PTX code: {kernel.ptx_by_pc(address)} \"\n",
    "    )"
   ]
  },
  {
   "cell_type": "markdown",
   "metadata": {},
   "source": [
    "Looking at every correlation location like this can reveal where performance improvement potential (such as reducing\n",
    "uncoalesced shared memory accesses in this example) might exist and where not."
   ]
  },
  {
   "cell_type": "markdown",
   "metadata": {},
   "source": [
    "## Associate SASS/PTX instructions with high-level source code"
   ]
  },
  {
   "cell_type": "markdown",
   "metadata": {},
   "source": [
    "Now that you know the instance values of your source-correlated metric, as well as their associated SASS instructions,\n",
    "you might want to find their respective locations in the source code, too.\n",
    "\n",
    "In order to do that, you can once again use the `addresses`. First, however, you need to import the contents of the\n",
    "relevant source files. Note that this will only succeed if the profiled application was built with the\n",
    "`--generate-line-info` (`-lineinfo`) `nvcc` compiler flag.\n",
    "\n",
    "Source file contents can be obtain with `IAction.source_files()`. You can additionally convert the output to a `dict` to\n",
    "get a mapping from source file paths to source file contents:"
   ]
  },
  {
   "cell_type": "code",
   "execution_count": null,
   "metadata": {},
   "outputs": [],
   "source": [
    "sources = dict(kernel.source_files())"
   ]
  },
  {
   "cell_type": "markdown",
   "metadata": {},
   "source": [
    "In case the report does not contain the source file contents (but the lineinfo and source files names),\n",
    "you could try to read the files from the local file system.\n",
    "\n",
    "Next, you can use each `address` to obtain an `ISourceInfo` object using `IAction.source_info(address)`.\n",
    "`ISourceInfo` objects have two member functions: `file_name()` and `line()`. These can be used to\n",
    "get the path to the relevant source file and the line number of the correlation location, respectively.\n",
    "\n",
    "With this, you can build up a `dict` that maps from `file_path` to a list of `CorrelationInfo`s.\n",
    "You can use the latter to store the `value`, `line` and `address` for each instance of the source-correlated\n",
    "metric."
   ]
  },
  {
   "cell_type": "code",
   "execution_count": null,
   "metadata": {},
   "outputs": [],
   "source": [
    "from collections import defaultdict, namedtuple\n",
    "\n",
    "CorrelationInfo = namedtuple('CorrelationInfo', ['value', 'line', 'address'])\n",
    "high_level_correlations = defaultdict(list)\n",
    "\n",
    "for index in range(num_correlations):\n",
    "    value = metric.value(index)\n",
    "    address = addresses.value(index)\n",
    "\n",
    "    source_info = kernel.source_info(address)\n",
    "    file_path = source_info.file_name()\n",
    "    line = source_info.line()\n",
    "\n",
    "    high_level_correlations[file_path].append(CorrelationInfo(value, line, address))"
   ]
  },
  {
   "cell_type": "markdown",
   "metadata": {},
   "source": [
    "To extract a single `line` from a string representing the contents of a file, additional functionality is needed.\n",
    "For illustrational purposes, you may want to use a simple implementation:"
   ]
  },
  {
   "cell_type": "code",
   "execution_count": null,
   "metadata": {},
   "outputs": [],
   "source": [
    "def get_line_from_file(line: int, file_content: str) -> str:\n",
    "    return file_content.splitlines()[line-1]  # line numbering uses 1-based indexing"
   ]
  },
  {
   "cell_type": "markdown",
   "metadata": {},
   "source": [
    "Now you can look at the extracted data! Since you might care about places for potential improvement only, you can ignore zero instance values:"
   ]
  },
  {
   "cell_type": "code",
   "execution_count": null,
   "metadata": {},
   "outputs": [],
   "source": [
    "from pathlib import Path\n",
    "\n",
    "for path in high_level_correlations:\n",
    "    print(f\"{Path(path).name}:\")\n",
    "\n",
    "    for info in high_level_correlations[path]:\n",
    "        if info.value > 0:\n",
    "            print(\n",
    "                f\"  [line {info.line:<3}]  \"\n",
    "                f\"value = {info.value:<10,}  \"\n",
    "                f\"CUDA-C: {get_line_from_file(info.line, sources[path]).strip():<48}\"\n",
    "                f\"SASS: {kernel.sass_by_pc(info.address).strip()}\"\n",
    "            )"
   ]
  }
 ],
 "metadata": {
  "kernelspec": {
   "display_name": "base",
   "language": "python",
   "name": "python3"
  },
  "language_info": {
   "codemirror_mode": {
    "name": "ipython",
    "version": 3
   },
   "file_extension": ".py",
   "mimetype": "text/x-python",
   "name": "python",
   "nbconvert_exporter": "python",
   "pygments_lexer": "ipython3",
   "version": "3.9.13"
  },
  "orig_nbformat": 4,
  "vscode": {
   "interpreter": {
    "hash": "980371efc09d79af10597fc0541da4320ce4f3e067752c6a7ec257bcdc2f4996"
   }
  }
 },
 "nbformat": 4,
 "nbformat_minor": 2
}
