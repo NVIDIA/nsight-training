{
 "cells": [
  {
   "cell_type": "markdown",
   "metadata": {},
   "source": [
    "# 01 Introduction"
   ]
  },
  {
   "cell_type": "markdown",
   "metadata": {},
   "source": [
    "Nsight Graphics is a tool that allows for API debugging and graphics performance profiling. It is supported on multiple platforms including Windows and Linux, and supports the most popular graphics APIs; Direct3D 11, Direct3D 12, DirectX Raytracing, Vulkan, Vulkan Ray Tracing and OpenGL.\n",
    "\n",
    "In this section, we'll open it up and walk through the different features available to you."
   ]
  },
  {
   "cell_type": "markdown",
   "metadata": {
    "tags": []
   },
   "source": [
    "### Nsight Graphics\n",
    "\n",
    "With Nsight Graphics, you can zoom in on the state of the GPU and focus on what performance limiters are resulting in low framerates. It's a comprehensive debugger and profiler that gives you visibility using a number of great features like the Shader Profiler, Acceleration Structure Viewer and GPU Trace. You get:\n",
    "- Debugging\n",
    "    - C++ Frame Serialization\n",
    "    - Resource Viewer\n",
    "    -Pixel History\n",
    "    - API inspection\n",
    "    - GPU Crashes\n",
    "- Profiling\n",
    "    - Range Profiler\n",
    "    - GPU Trace\n",
    "    - Shader Profiler\n",
    "- Support for multiple platforms: Linux, Windows\n",
    "- Support for multiple APIs: Direct3D 11/12/DXR, Vulkan/Vulkan Ray Tracing, OpenGL\n",
    "\n",
    "\n",
    "Nsight Graphics supports advanced modern graphics features like Mesh Shaders, Variable Rate Shading, DXR/NVIDIA VKRay/Vulkan Ray Tracing and more.\n",
    "\n",
    "<img src=\"images/nsight_graphics_debugger.png\" width=\"700\">"
   ]
  },
  {
   "cell_type": "markdown",
   "metadata": {},
   "source": [
    "For this next section, you'll have the option to run through the steps alongside the instructor using a remote connection. \n",
    "\n",
    "Follow these instructions if you'd like to do so:\n",
    "* Execute the `%%js` cell below to generate the URL for the remote desktop\n",
    "* Copy and paste the URL into a new browser tab\n",
    "* When prompted, the password is `nvidia`"
   ]
  },
  {
   "cell_type": "code",
   "execution_count": 7,
   "metadata": {},
   "outputs": [
    {
     "data": {
      "application/javascript": [
       "var port = ((window.location.port == 80) ? \"\" : (\":\"+window.location.port));\n",
       "var url = 'http://' + window.location.hostname + port + '/nsight/vnc.html?resize=scale';\n",
       "element.append(url)\n"
      ],
      "text/plain": [
       "<IPython.core.display.Javascript object>"
      ]
     },
     "metadata": {},
     "output_type": "display_data"
    }
   ],
   "source": [
    " %%js\n",
    "var port = ((window.location.port == 80) ? \"\" : (\":\"+window.location.port));\n",
    "var url = 'http://' + window.location.hostname + port + '/nsight/vnc.html?resize=scale';\n",
    "element.append(url)"
   ]
  },
  {
   "cell_type": "markdown",
   "metadata": {},
   "source": [
    "--------"
   ]
  },
  {
   "cell_type": "markdown",
   "metadata": {},
   "source": [
    "## 01a - Getting Started\n",
    "On your desktop, find the Nsight Graphics shortcut and double click to open it up.\n",
    "\n",
    "Nsight Graphics is project based, so the first thing we need to do is to create a new project that acts as our workspace. Let's call it EndeavRTX, which is the name of the application I'll introduce to you in a bit.\n",
    "\n",
    "<img src=\"images/image005.png\" width=\"800\"> \n"
   ]
  },
  {
   "cell_type": "markdown",
   "metadata": {},
   "source": [
    "\n",
    "After we create our project, we'll click on Connect in order to fill out the details of the application we would like to connect to. It's worth noting that on Windows, we have a plugin for Visual Studio that will automatically plug in these details for you.\n",
    "\n",
    "Let's enter the path for the Application Executable:\n",
    "__/../dli-samples/example1/endeavrtx.exe__\n",
    "\n",
    "Nsight Graphics uses the concept of Activities to provide an environment that is most efficient for specific workflows.\n",
    "\n",
    "- Frame Debugger is best used to capture a single frame for API inspection.\n",
    "- Frame Profiler focuses on profiling activities like analysis of low level metrics using the Range Profiler and shader instruction stalls using the Shader Profiler.\n",
    "- Generate C++ Capture allows you to save off a single captured frame to C++ code, allowing you to then build a single frame replay application for later use.\n",
    "- GPU Trace is an advanced low-level metrics based profiler with powerful analysis features.\n",
    "- System Trace will launch Nsight Systems with the settings we configured above.\n",
    "\n",
    "All the activities have unique settings that you can configure should you ever need to troubleshoot unexpected results. We will sometimes differentiate between a host (the machine running the tool) and the target (the machine with the application), but in most cases (and by default), they are the same. This is important to know as you can connect to a remote target machine by running the Nsight Graphics Monitor on that machine and setting the Connection at the top to match the IP Address of that target machine.\n",
    "\n",
    "Let's select the Frame Debugger for now and click on Launch Frame Debugger to start and connect to the application.\n",
    "\n",
    "<img src=\"images/image007.png\" width=\"800\"> "
   ]
  },
  {
   "cell_type": "markdown",
   "metadata": {},
   "source": [
    "After the application starts, everything will seem like normal, however, the tool is actually connected to the application under the hood. In order to get the application state for inspect, we need to initiate a capture. To do this, hit the default capture button of F11.\n",
    "\n",
    "<img src=\"images/image009.png\" width=\"800\"> "
   ]
  },
  {
   "cell_type": "markdown",
   "metadata": {},
   "source": [
    "You'll notice a bar at the bottom of the screen. This HUD allows you to move between different API events in the scene. Feel free to grab the little handle (circle) and move it around to see what happens.\n",
    "\n",
    "As you can see, each individual event alters the final output in some way. Now let's start inspecting the events within the main window.\n",
    "\n",
    "<img src=\"images/image011.png\" width=\"800\"> "
   ]
  },
  {
   "cell_type": "markdown",
   "metadata": {},
   "source": [
    "The application we're looking at has some interesting features, but fundamentally, it's actually relatively simple. Let's look for the most important event; vkCmdTraceRaysKHR. To do this, type in 'TraceRays' in the events filter. Select that event and you'll see the API Inspector appear.\n",
    "\n",
    "<img src=\"images/image013.png\" width=\"800\"> "
   ]
  },
  {
   "cell_type": "markdown",
   "metadata": {},
   "source": [
    "From the API Inspector, we can examine a lot of important information.\n",
    "\n",
    "<img src=\"images/image015.png\" width=\"800\"> "
   ]
  },
  {
   "cell_type": "markdown",
   "metadata": {},
   "source": [
    "This includes the ray tracing shaders. You'll notice the edit button. I'll show you how that works a little later.\n",
    "\n",
    "<img src=\"images/image017.png\" width=\"800\"> "
   ]
  },
  {
   "cell_type": "markdown",
   "metadata": {},
   "source": [
    "Look at the Acceleration Structure. I'll explain more about why these are important to ray tracing in a bit. \n",
    "\n",
    "<img src=\"images/image019.png\" width=\"800\"> "
   ]
  },
  {
   "cell_type": "markdown",
   "metadata": {},
   "source": [
    "You can also view resources like buffers and textures. \n",
    "\n",
    "<img src=\"images/image021.png\" width=\"800\"> "
   ]
  },
  {
   "cell_type": "markdown",
   "metadata": {},
   "source": [
    "Even though we are debugging, we can still open some profiling features like the Shader Profiler. Let's have a quick look by right clicking on the trace rays event and clicking on Profile Shaders.\n",
    "\n",
    "<img src=\"images/image023.png\" width=\"800\"> "
   ]
  },
  {
   "cell_type": "markdown",
   "metadata": {},
   "source": [
    "Here we can view the shaders that are executing on the GPU and better understand how efficient they are based on the number of stalls that occur while they are being scheduled to run on the GPU. I'll go into details of the practical considerations of this in a bit.\n",
    "\n",
    "<img src=\"images/image025.png\" width=\"800\"> "
   ]
  },
  {
   "cell_type": "markdown",
   "metadata": {},
   "source": [
    "I'll give you a few minutes to allow you inspect the different parts of the UI. To start, have a look at the different shader types in the API inspector. Open up the Acceleration Structure Viewer and fly around the scene."
   ]
  },
  {
   "cell_type": "markdown",
   "metadata": {},
   "source": [
    "<font color=yellow>\n",
    "Pro Tip: Most features in Nsight Graphics allow you to save data for later offline analysis. I've saved a number of reports for you to check out on your desktop in the Reports folder. Feel free to open them up in Nsight Graphics and see what they look like.\n",
    "</font>"
   ]
  },
  {
   "cell_type": "markdown",
   "metadata": {},
   "source": [
    "## 01b - GPU Trace Activity\n",
    "\n",
    "Activities help define a good workflow that is oriented around a particular type of job you want to do. Debugging is for inspecting resources and finding bugs. Profiling is to identify performance limiters using the Ranger Profiler or Shader Profiler. GPU Trace is also for profiling but at a much lower level, taking advantage of metrics graphed on a timeline over multiple frames via a trace.\n",
    "\n",
    "Now that you've had a chance to check out the debug activity, let's have a look at the GPU Trace profiling activity. Click on the Terminate button to disconnect and close the application.\n",
    "\n",
    "Click on connect again, but this time select GPU Trace as your activity. Leave the default settings for now and click on Launch GPU Trace.\n",
    "\n",
    "<img src=\"images/image027.png\" width=\"800\"> "
   ]
  },
  {
   "cell_type": "markdown",
   "metadata": {},
   "source": [
    "\n",
    "Just as before, we need to retrieve the application state so go ahead and hit F11.\n",
    "\n",
    "As opposed to capturing the state, this takes a trace of it. The distinction isn't too important right now, but you should know that a capture allows for replay, whereas a trace is more like a log over time. This also means that GPU Trace can actually trace data over multiple frames.\n",
    "\n",
    "Go back to the main window to watch the trace complete. Once it's done, we'll click on the Terminate Application checkbox (since we won't need it anymore) and Open.\n",
    "\n",
    "<img src=\"images/image029.png\" width=\"800\"> "
   ]
  },
  {
   "cell_type": "markdown",
   "metadata": {},
   "source": [
    "What you're now seeing is a graph of low-level metric values that were gathered over the course of the frame. This data can tell you a lot about where your frame time is being spent and point you in the direction of where you can get back the most performance. \n",
    "\n",
    "<img src=\"images/image031.png\" width=\"800\"> "
   ]
  },
  {
   "cell_type": "markdown",
   "metadata": {},
   "source": [
    "\n",
    "GPU Trace has many more great features, such as being able to see synchronization primitives across workloads, comparing differences between two traces as well as a new analysis feature. We'll talk about this in a little bit.\n",
    "\n"
   ]
  },
  {
   "cell_type": "markdown",
   "metadata": {},
   "source": [
    "## 01c - Quiz"
   ]
  },
  {
   "cell_type": "code",
   "execution_count": 1,
   "metadata": {
    "tags": [
     "hide_input",
     "hide-input"
    ]
   },
   "outputs": [
    {
     "ename": "ImportError",
     "evalue": "No module named 'ipywidgets'",
     "output_type": "error",
     "traceback": [
      "\u001b[0;31m---------------------------------------------------------------------------\u001b[0m",
      "\u001b[0;31mImportError\u001b[0m                               Traceback (most recent call last)",
      "\u001b[0;32m<ipython-input-1-0c72edb42649>\u001b[0m in \u001b[0;36m<module>\u001b[0;34m\u001b[0m\n\u001b[0;32m----> 1\u001b[0;31m \u001b[0;32mfrom\u001b[0m \u001b[0mmcq\u001b[0m \u001b[0;32mimport\u001b[0m \u001b[0mcreate_multipleChoice_widget\u001b[0m\u001b[0;34m\u001b[0m\u001b[0m\n\u001b[0m\u001b[1;32m      2\u001b[0m \u001b[0mQ\u001b[0m \u001b[0;34m=\u001b[0m \u001b[0mcreate_multipleChoice_widget\u001b[0m\u001b[0;34m(\u001b[0m\u001b[0;34m'Nsight Graphics Supports...'\u001b[0m\u001b[0;34m,\u001b[0m \u001b[0;34m[\u001b[0m\u001b[0;34m'Direct3D'\u001b[0m\u001b[0;34m,\u001b[0m \u001b[0;34m'Vulkan'\u001b[0m\u001b[0;34m,\u001b[0m \u001b[0;34m'OpenGL'\u001b[0m\u001b[0;34m,\u001b[0m \u001b[0;34m'All of the above'\u001b[0m\u001b[0;34m]\u001b[0m\u001b[0;34m,\u001b[0m \u001b[0;34m'All of the above'\u001b[0m\u001b[0;34m,\u001b[0m \u001b[0;34m''\u001b[0m\u001b[0;34m)\u001b[0m\u001b[0;34m\u001b[0m\u001b[0m\n\u001b[1;32m      3\u001b[0m \u001b[0mQ\u001b[0m\u001b[0;34m\u001b[0m\u001b[0m\n",
      "\u001b[0;32m~/working/gtc2021/labs/github/x-gd-01-v1-master/task1/lab/task/graphics/mcq.py\u001b[0m in \u001b[0;36m<module>\u001b[0;34m\u001b[0m\n\u001b[1;32m      1\u001b[0m \u001b[0;31m##Basic mcq\u001b[0m\u001b[0;34m\u001b[0m\u001b[0;34m\u001b[0m\u001b[0m\n\u001b[1;32m      2\u001b[0m \u001b[0;34m\u001b[0m\u001b[0m\n\u001b[0;32m----> 3\u001b[0;31m \u001b[0;32mfrom\u001b[0m \u001b[0mipywidgets\u001b[0m \u001b[0;32mimport\u001b[0m \u001b[0mwidgets\u001b[0m\u001b[0;34m,\u001b[0m \u001b[0mLayout\u001b[0m\u001b[0;34m,\u001b[0m \u001b[0mBox\u001b[0m\u001b[0;34m,\u001b[0m \u001b[0mGridspecLayout\u001b[0m\u001b[0;34m\u001b[0m\u001b[0m\n\u001b[0m\u001b[1;32m      4\u001b[0m \u001b[0;34m\u001b[0m\u001b[0m\n\u001b[1;32m      5\u001b[0m \u001b[0;32mdef\u001b[0m \u001b[0mcreate_multipleChoice_widget\u001b[0m\u001b[0;34m(\u001b[0m\u001b[0mdescription\u001b[0m\u001b[0;34m,\u001b[0m \u001b[0moptions\u001b[0m\u001b[0;34m,\u001b[0m \u001b[0mcorrect_answer\u001b[0m\u001b[0;34m,\u001b[0m \u001b[0mtip\u001b[0m\u001b[0;34m)\u001b[0m\u001b[0;34m:\u001b[0m\u001b[0;34m\u001b[0m\u001b[0m\n",
      "\u001b[0;31mImportError\u001b[0m: No module named 'ipywidgets'"
     ]
    }
   ],
   "source": [
    "from mcq import create_multipleChoice_widget\n",
    "Q = create_multipleChoice_widget('Nsight Graphics Supports...', ['Direct3D', 'Vulkan', 'OpenGL', 'All of the above'], 'All of the above', '')\n",
    "Q"
   ]
  },
  {
   "cell_type": "code",
   "execution_count": 2,
   "metadata": {
    "tags": [
     "hide_input",
     "hide-input"
    ]
   },
   "outputs": [
    {
     "ename": "ImportError",
     "evalue": "No module named 'ipywidgets'",
     "output_type": "error",
     "traceback": [
      "\u001b[0;31m---------------------------------------------------------------------------\u001b[0m",
      "\u001b[0;31mImportError\u001b[0m                               Traceback (most recent call last)",
      "\u001b[0;32m<ipython-input-2-e66381622d63>\u001b[0m in \u001b[0;36m<module>\u001b[0;34m\u001b[0m\n\u001b[0;32m----> 1\u001b[0;31m \u001b[0;32mfrom\u001b[0m \u001b[0mmcq\u001b[0m \u001b[0;32mimport\u001b[0m \u001b[0mcreate_multipleChoice_widget\u001b[0m\u001b[0;34m\u001b[0m\u001b[0m\n\u001b[0m\u001b[1;32m      2\u001b[0m \u001b[0mQ\u001b[0m \u001b[0;34m=\u001b[0m \u001b[0mcreate_multipleChoice_widget\u001b[0m\u001b[0;34m(\u001b[0m\u001b[0;34m'Nsight Systems is primarily for...'\u001b[0m\u001b[0;34m,\u001b[0m \u001b[0;34m[\u001b[0m\u001b[0;34m'GPU Debugging'\u001b[0m\u001b[0;34m,\u001b[0m \u001b[0;34m'Understanding GPU-CPU interactions'\u001b[0m\u001b[0;34m,\u001b[0m \u001b[0;34m'Editing Shaders'\u001b[0m\u001b[0;34m]\u001b[0m\u001b[0;34m,\u001b[0m \u001b[0;34m'Understanding GPU-CPU interactions'\u001b[0m\u001b[0;34m,\u001b[0m \u001b[0;34m''\u001b[0m\u001b[0;34m)\u001b[0m\u001b[0;34m\u001b[0m\u001b[0m\n\u001b[1;32m      3\u001b[0m \u001b[0mQ\u001b[0m\u001b[0;34m\u001b[0m\u001b[0m\n",
      "\u001b[0;32m~/working/gtc2021/labs/github/x-gd-01-v1-master/task1/lab/task/graphics/mcq.py\u001b[0m in \u001b[0;36m<module>\u001b[0;34m\u001b[0m\n\u001b[1;32m      1\u001b[0m \u001b[0;31m##Basic mcq\u001b[0m\u001b[0;34m\u001b[0m\u001b[0;34m\u001b[0m\u001b[0m\n\u001b[1;32m      2\u001b[0m \u001b[0;34m\u001b[0m\u001b[0m\n\u001b[0;32m----> 3\u001b[0;31m \u001b[0;32mfrom\u001b[0m \u001b[0mipywidgets\u001b[0m \u001b[0;32mimport\u001b[0m \u001b[0mwidgets\u001b[0m\u001b[0;34m,\u001b[0m \u001b[0mLayout\u001b[0m\u001b[0;34m,\u001b[0m \u001b[0mBox\u001b[0m\u001b[0;34m,\u001b[0m \u001b[0mGridspecLayout\u001b[0m\u001b[0;34m\u001b[0m\u001b[0m\n\u001b[0m\u001b[1;32m      4\u001b[0m \u001b[0;34m\u001b[0m\u001b[0m\n\u001b[1;32m      5\u001b[0m \u001b[0;32mdef\u001b[0m \u001b[0mcreate_multipleChoice_widget\u001b[0m\u001b[0;34m(\u001b[0m\u001b[0mdescription\u001b[0m\u001b[0;34m,\u001b[0m \u001b[0moptions\u001b[0m\u001b[0;34m,\u001b[0m \u001b[0mcorrect_answer\u001b[0m\u001b[0;34m,\u001b[0m \u001b[0mtip\u001b[0m\u001b[0;34m)\u001b[0m\u001b[0;34m:\u001b[0m\u001b[0;34m\u001b[0m\u001b[0m\n",
      "\u001b[0;31mImportError\u001b[0m: No module named 'ipywidgets'"
     ]
    }
   ],
   "source": [
    "from mcq import create_multipleChoice_widget\n",
    "Q = create_multipleChoice_widget('Nsight Systems is primarily for...', ['GPU Debugging', 'Understanding GPU-CPU interactions', 'Editing Shaders'], 'Understanding GPU-CPU interactions', '')\n",
    "Q"
   ]
  },
  {
   "cell_type": "code",
   "execution_count": 10,
   "metadata": {
    "tags": [
     "hide_input",
     "hide-input"
    ]
   },
   "outputs": [
    {
     "data": {
      "application/vnd.jupyter.widget-view+json": {
       "model_id": "4892f76e215a4c248d5bfb29cd7d774d",
       "version_major": 2,
       "version_minor": 0
      },
      "text/plain": [
       "VBox(children=(Output(layout=Layout(width='auto')), RadioButtons(options=(('Visual Studio', 0), ('Nsight Syste…"
      ]
     },
     "metadata": {},
     "output_type": "display_data"
    }
   ],
   "source": [
    "from mcq import create_multipleChoice_widget\n",
    "Q = create_multipleChoice_widget('When starting a profiling session, you should start with...', ['Visual Studio', 'Nsight Systems', 'Nsight Graphics'], 'Nsight Systems', '')\n",
    "Q"
   ]
  },
  {
   "cell_type": "markdown",
   "metadata": {},
   "source": [
    "If you're ever unsure about something, there is a comprehensive User Guide that provides more information on the UI and how to use the Nsight Graphics. Be sure to check it out.\n",
    "\n",
    "We'll return to our example application in a bit but, first, let's take a detour and learn how the GPU works at a basic level so we know what to look for when optimizing our ray tracing application.\n",
    "\n",
    "[Continue to the **GPU Fundamentals** section](02_gpu_fundamentals.ipynb)"
   ]
  }
 ],
 "metadata": {
  "kernelspec": {
   "display_name": "Python 3",
   "language": "python",
   "name": "python3"
  },
  "language_info": {
   "codemirror_mode": {
    "name": "ipython",
    "version": 3
   },
   "file_extension": ".py",
   "mimetype": "text/x-python",
   "name": "python",
   "nbconvert_exporter": "python",
   "pygments_lexer": "ipython3",
   "version": "3.5.6"
  }
 },
 "nbformat": 4,
 "nbformat_minor": 4
}
