{
 "cells": [
  {
   "cell_type": "markdown",
   "metadata": {
    "tags": []
   },
   "source": [
    "# 02 GPU Fundamentals"
   ]
  },
  {
   "cell_type": "markdown",
   "metadata": {
    "tags": []
   },
   "source": [
    "In this section, we'll learn more about modern NVIDIA GPUs, how they work, and the important implications this has on realtime performance.\n",
    "\n",
    "<img src=\"images/rtx-gpus.png\" width=\"400\"> <img src=\"images/image053.png\" width=\"600\">"
   ]
  },
  {
   "cell_type": "markdown",
   "metadata": {},
   "source": [
    "## 02a - Graphics Pipeline\n",
    "GPUs are super parallel work distributors and distributing all the work of drawing triangles and pixels on the screen can be very complex. In the old days, each stage of the graphics pipeline was part of a physical pipeline and would run serially.\n",
    "\n",
    "This is just not very efficient. By moving towards a logical pipeline as opposed to a physical pipeline, we were able to get a unified architecture that is fully parallel, allowing for multiple parts of the GPU (called engines) to be reused. \n",
    "\n",
    "<img src=\"images/image033.png\" width=\"800\"> "
   ]
  },
  {
   "cell_type": "markdown",
   "metadata": {},
   "source": [
    "At a high level, the GPU consists of a set of Graphics Processing Clusters (GPCs) that are connected to a set of Frame Buffer Partitions (FBP) through an on-chip interconnect network called the Crossbar (XBAR). \n",
    "\n",
    "The GPC itself is a nearly complete graphics pipeline that integrates Texture Processing Clusters (TPCs) that contain fixed-function rasterization and primitive processing units.\n",
    "\n",
    "The TPC integrates a number of Texture Units (TEX) and SIMT processors called Streaming Multiprocessors (SMs). SIMT stands for \"Single Instruction, Multiple Threads\", which should give you a hint as to how those SMs work.\n",
    "\n",
    "The SMs themselves contain the ALUs (Arithmetic Logic Units) that execute graphics and computer shader programs. SMs process work using Threads and we call groups of Threads a Warp.\n",
    "\n",
    "Finally, the FBP contains the memory controller that communicates with the physical memory outside of the GPU as well as the Raster Output (ROP) units and the L2 cache.\n",
    "\n",
    "<img src=\"images/image035.png\" width=\"800\"> "
   ]
  },
  {
   "cell_type": "markdown",
   "metadata": {},
   "source": [
    "To get a triangle render on the screen, you move between the different parts of the logical pipeline.\n",
    "\n",
    "For instance, at the beginning, API calls provide data to the driver that then makes this accessible to the GPU. These get translated into commands that are sent to the Front End (FE) unit.\n",
    "\n",
    "<img src=\"images/image037.png\" width=\"800\"> "
   ]
  },
  {
   "cell_type": "markdown",
   "metadata": {},
   "source": [
    "The Primitive Distributor (PD) unit starts fetching the data and assembles that into units of work for the GPU to process in efficient batches.\n",
    "\n",
    "The Primitive Engine (PE) unit issues instructions to start retrieving vertex attributes from memory using the Vertex Attribute Fetch (VAF) unit. This gets fed into the Vertex Shader which is scheduled to execute on an SM.\n",
    "\n",
    "<img src=\"images/image039.png\" width=\"800\"> "
   ]
  },
  {
   "cell_type": "markdown",
   "metadata": {},
   "source": [
    "Let's take a moment to see how this data is represented in Nsight Graphics. Look at the events list and filter for vkCmdDrawIndexed. Clicking on one of these events should show you this:\n",
    "\n",
    "<img src=\"images/api-inspector-pipeline.png\" width=\"600\"> \n",
    "\n",
    "As you can see, we actually show you the state of the pipeline so you can inspect all the values that are being fed to the GPU."
   ]
  },
  {
   "cell_type": "markdown",
   "metadata": {},
   "source": [
    "When it's time to rasterize the triangles, the Pre-Raster Operation (PROP) unit receives depth and coverage and determines which pixels need to be shaded based on their visibility. Pixels that pass are then sent to an SM to be shaded.\n",
    "\n",
    "After the SM finishes processing this work, the Color Raster Operation (CROP) unit writes the final color to the framebuffer.\n",
    "\n",
    "<img src=\"images/image041.png\" width=\"800\"> "
   ]
  },
  {
   "cell_type": "markdown",
   "metadata": {},
   "source": [
    "Throughout this pipeline there are multiple memory units and caches that help to keep data coherent and quickly accessible between local and shared memory.\n",
    "\n",
    "These caches have different latencies and purposes:\n",
    "- The Level 1 Data cache (L1TEX) is per-SM and is important for texture and surface memory reads and writes. \n",
    "- The Level 2 Data cache (LTS) is connected to the XBAR and writes CROP data out to the final framebuffer output targets.\n",
    "\n",
    "<img src=\"images/image043.png\" width=\"800\"> "
   ]
  },
  {
   "cell_type": "markdown",
   "metadata": {},
   "source": [
    "When it comes to Ray Tracing, there is an additional RT Core that accelerates ray tracing operations but everything is pretty much the same. Modern Real Time Ray Tracing APIs were engineered to interop easily with existing graphics applications, engines and middlewares. Fast triangle intersection testing is a key part of what the makes the RTCore so integral to that goal.\n",
    "\n",
    "For more information on how the logical pipeline works on a modern NVIDIA GPU, be sure to check out the detailed explanation here: https://developer.nvidia.com/content/life-triangle-nvidias-logical-pipeline"
   ]
  },
  {
   "cell_type": "markdown",
   "metadata": {},
   "source": [
    "## 02b - Metrics\n",
    "Metrics help to relate the state of these hardware units to actual performance. The GPU has different parts that compose the graphics pipeline and these can be observed using metrics. There are thousands of metrics available so we try to curate some specific metrics based around the critical hardware units that have the most liklihood of influencing performance.\n",
    "\n",
    "<img src=\"images/metrics1.png\" width=\"400\"> \n",
    "\n",
    "These categories include:\n",
    "- TEX\n",
    "- PE\n",
    "- L1$\n",
    "- RTCORE\n",
    "- FE\n",
    "- CROP, ZROP\n",
    "\n",
    "Metrics measure a number of performance critical properties of that pipeline:\n",
    "- Throughput\n",
    "- Request/response counts\n",
    "- Duration/Timing\n",
    "- Stall reasons and counts\n",
    "- Input/output counts\n",
    "- Active and elapsed cycles\n",
    "\n",
    "Some important metric categories are:\n",
    "- Front End Pipeline Stalling Commands and Stall Cycles\n",
    "- Occupancy limiters\n",
    "- Memory\n",
    "\n",
    "Let's open up Nsight Graphics again and have a look at the different metrics inside GPU Trace."
   ]
  },
  {
   "cell_type": "markdown",
   "metadata": {},
   "source": [
    "## 02c - Quiz"
   ]
  },
  {
   "cell_type": "code",
   "execution_count": 4,
   "metadata": {
    "jupyter": {
     "source_hidden": true
    },
    "tags": [
     "hide_input",
     "hide-input"
    ]
   },
   "outputs": [
    {
     "data": {
      "application/vnd.jupyter.widget-view+json": {
       "model_id": "a58a1aade8914ecf87985026c0900d61",
       "version_major": 2,
       "version_minor": 0
      },
      "text/plain": [
       "VBox(children=(Output(layout=Layout(width='auto')), RadioButtons(options=(('Texture Processing Cluster (TPC)',…"
      ]
     },
     "metadata": {},
     "output_type": "display_data"
    }
   ],
   "source": [
    "from mcq import create_multipleChoice_widget\n",
    "Q1 = create_multipleChoice_widget('Which part of the GPU is responsible for executing instructions?', ['Texture Processing Cluster (TPC)', 'Graphics Processing Cluster (GPC)', 'Streaming Multiprocessor (SM)'], 'Streaming Multiprocessor (SM)', \"\")\n",
    "Q1"
   ]
  },
  {
   "cell_type": "code",
   "execution_count": 5,
   "metadata": {
    "jupyter": {
     "source_hidden": true
    },
    "tags": [
     "hide_input",
     "hide-input"
    ]
   },
   "outputs": [
    {
     "data": {
      "application/vnd.jupyter.widget-view+json": {
       "model_id": "0712007641594fd6a3bbc689097e5827",
       "version_major": 2,
       "version_minor": 0
      },
      "text/plain": [
       "VBox(children=(Output(layout=Layout(width='auto')), RadioButtons(options=(('True', 0), ('False', 1)), value=0)…"
      ]
     },
     "metadata": {},
     "output_type": "display_data"
    }
   ],
   "source": [
    "from mcq import create_multipleChoice_widget\n",
    "Q1 = create_multipleChoice_widget('The Frontend (FE) is where instructions are scheduled on SMs', ['True', 'False'], 'False', \"\")\n",
    "Q1"
   ]
  },
  {
   "cell_type": "code",
   "execution_count": 6,
   "metadata": {
    "jupyter": {
     "source_hidden": true
    }
   },
   "outputs": [
    {
     "data": {
      "application/vnd.jupyter.widget-view+json": {
       "model_id": "13342904fd5c4f479fe576559a757989",
       "version_major": 2,
       "version_minor": 0
      },
      "text/plain": [
       "VBox(children=(Output(layout=Layout(width='auto')), RadioButtons(options=(('True', 0), ('False', 1)), value=0)…"
      ]
     },
     "metadata": {},
     "output_type": "display_data"
    }
   ],
   "source": [
    "from mcq import create_multipleChoice_widget\n",
    "Q1 = create_multipleChoice_widget('Modern GPUs used a Physical Pipeline to render geometry', ['True', 'False'], 'False', \"\")\n",
    "Q1"
   ]
  },
  {
   "cell_type": "markdown",
   "metadata": {},
   "source": [
    "Next, let's dig into how Real-Time Ray Tracing works so we can better understand the kinds of problems we may face and how Nsight Tools can help you.\n",
    "\n",
    "[Continue to the **Ray Tracing Basics** section](03_ray_tracing_basics.ipynb)"
   ]
  }
 ],
 "metadata": {
  "kernelspec": {
   "display_name": "Python 3",
   "language": "python",
   "name": "python3"
  },
  "language_info": {
   "codemirror_mode": {
    "name": "ipython",
    "version": 3
   },
   "file_extension": ".py",
   "mimetype": "text/x-python",
   "name": "python",
   "nbconvert_exporter": "python",
   "pygments_lexer": "ipython3",
   "version": "3.5.6"
  }
 },
 "nbformat": 4,
 "nbformat_minor": 4
}
