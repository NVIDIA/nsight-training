{
 "cells": [
  {
   "cell_type": "markdown",
   "metadata": {
    "tags": []
   },
   "source": [
    "# Conclusion"
   ]
  },
  {
   "cell_type": "markdown",
   "metadata": {},
   "source": [
    "Let's review what we've learned:\n",
    "- Ray Tracing is the future of photorealistic 3D Graphics\n",
    "- Verify that performance is not bottlenecked on the CPU, then move to the GPU\n",
    "- GPUs are great at 'embarrassingly parallel\" problems but must be properly utilized to get this benefit\n",
    "- Shader Instruction Stalls are a major performance limiter\n",
    "- GPU Crashes are painful to debug. Integrate Nsight Aftermath to make your life easier"
   ]
  },
  {
   "cell_type": "markdown",
   "metadata": {},
   "source": [
    "Now go get Nsight Systems and Nsight Graphics and see what you can discover about your application.\n",
    "\n",
    "Get them here:\n",
    "- https://developer.nvidia.com/nsight-graphics\n",
    "- https://developer.nvidia.com/nsight-systems\n",
    "- https://developer.nvidia.com/nsight-aftermath\n",
    "\n",
    "Learn more here:\n",
    "- Ampere White Paper: https://www.nvidia.com/en-us/geforce/news/rtx-30-series-ampere-architecture-whitepaper-download/\n",
    "- Ray Tracing Gems: http://www.realtimerendering.com/raytracinggems/\n",
    "- P3 Method: https://developer.nvidia.com/blog/the-peak-performance-analysis-method-for-optimizing-any-gpu-workload/\n",
    "\n",
    "\n",
    "\n",
    "---\n",
    "\n",
    "__Thank you for participating!__\n",
    "\n",
    "<img src=\"graphics/images/nvidia-logo.jpg\" width=\"400\"> "
   ]
  }
 ],
 "metadata": {
  "kernelspec": {
   "display_name": "Python 3",
   "language": "python",
   "name": "python3"
  },
  "language_info": {
   "codemirror_mode": {
    "name": "ipython",
    "version": 3
   },
   "file_extension": ".py",
   "mimetype": "text/x-python",
   "name": "python",
   "nbconvert_exporter": "python",
   "pygments_lexer": "ipython3",
   "version": "3.5.6"
  }
 },
 "nbformat": 4,
 "nbformat_minor": 4
}
