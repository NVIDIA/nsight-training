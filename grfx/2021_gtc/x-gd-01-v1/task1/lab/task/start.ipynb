{
 "cells": [
  {
   "cell_type": "markdown",
   "metadata": {},
   "source": [
    "# __Fundamentals of Ray Tracing Development using NVIDIA Nsight Graphics and NVIDIA Nsight Systems__"
   ]
  },
  {
   "cell_type": "markdown",
   "metadata": {},
   "source": [
    "In this lab, you'll learn a bit about hour NVIDIA GPUs work, how Ray Tracing works, and how to use NVIDIA [Nsight Graphics](https://developer.nvidia.com/nsight-graphics) and [Nsight Systems](https://developer.nvidia.com/nsight-systems) to profile, analyze and optimize your graphics application."
   ]
  },
  {
   "cell_type": "markdown",
   "metadata": {},
   "source": [
    "## Introductions\n",
    "\n",
    "### Your Instructors\n",
    "\n",
    "<img src=\"graphics/images/aurelio-portrait.jpg\" width=\"150\"> Aurelio Reis - SWE Director, Graphics Developer Tools\n",
    "\n",
    "\n",
    "<img src=\"graphics/images/uri.jpg\" width=\"150\"> Uri Shomroni - Senior Engineer, Nsight Systems Team"
   ]
  },
  {
   "cell_type": "markdown",
   "metadata": {
    "tags": []
   },
   "source": [
    "## NVIDIA Developer Tools\n",
    "\n",
    "<img src=\"graphics/images/s1png.png\" width=\"800\">\n",
    "\n",
    "As an innovator of cutting edge 3D graphics, NVIDIA has created groundbreaking technologies like RTX and DLSS. The Turing and Ampere Architectures have ushered in a new era of graphics that makes realtime ray tracing a reality. In order to help you create innovative new applications that take advantage of these graphics features, you need to be able to fully utilize the capabilities of NVIDIA GPUs. NVIDIA Developer Tools helps you do this by providing a rich and vibrant ecosystem of tools that you have free access to. Our goal is to provide developers like you full visibility of the GPU so you can make the best use of it.\n",
    "\n",
    "<img src=\"graphics/images/s2png.png\" width=\"800\">\n",
    "\n",
    "To use these tools effectively when profiling, we have recommended workflows that will help you identify and resolve problems as quickly as possible. The main workflow to consider is one that utilizes Nsight Systems to verify if you are CPU or GPU limited, resolving CPU issues, then moving on to Nsight Graphics to resolve GPU specific problems. Here is a graphic that demonstrates this workflow:\n",
    "\n",
    "<img src=\"graphics/images/triangle.png\" width=\"800\">"
   ]
  },
  {
   "cell_type": "markdown",
   "metadata": {},
   "source": [
    "## Introduction to Ray Tracing Tools\n",
    "\n",
    "We'll start by taking a deep dive into what Ray Tracing is and how you can take advantage of it to improve your applications. Next, we'll show you which Nsight tools are freely available to you to use to ensure that your application is bug free and performant on NVIDIA GPUs.\n",
    "\n",
    "[Start the **Ray Tracing Tools Overview** section](graphics/01_introduction.ipynb)\n",
    "\n",
    "## Deep Dive on improving Ray Tracing performance by keeping the GPU utilized\n",
    "\n",
    "In this section, we'll take a look at a path tracing game that is not fully taking advantage of the GPU and how you can identify and then resolve this issue. \n",
    "\n",
    "[Start the **Deep Dive** section](systems/nsight-systems-deepdive.ipynb)\n",
    "\n",
    "## Conclude the lesson\n",
    "\n",
    "[Start the **Conclusion**](conclusion.ipynb)\n"
   ]
  }
 ],
 "metadata": {
  "kernelspec": {
   "display_name": "Python 3",
   "language": "python",
   "name": "python3"
  },
  "language_info": {
   "codemirror_mode": {
    "name": "ipython",
    "version": 3
   },
   "file_extension": ".py",
   "mimetype": "text/x-python",
   "name": "python",
   "nbconvert_exporter": "python",
   "pygments_lexer": "ipython3",
   "version": "3.5.6"
  }
 },
 "nbformat": 4,
 "nbformat_minor": 4
}
